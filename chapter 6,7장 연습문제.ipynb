{
 "cells": [
  {
   "cell_type": "markdown",
   "metadata": {},
   "source": [
    "# 6장 연습문제"
   ]
  },
  {
   "cell_type": "code",
   "execution_count": 1,
   "metadata": {},
   "outputs": [
    {
     "name": "stdout",
     "output_type": "stream",
     "text": [
      "1. 아이디 : kim99 , 마일리지 : 12000점\n",
      "2. 아이디 : lee66 , 마일리지 : 11000점\n",
      "3. 아이디 : han55 , 마일리지 : 3000점\n",
      "4. 아이디 : hong77 , 마일리지 : 5000점\n",
      "5. 아이디 : hwang33 , 마일리지 : 18000점\n"
     ]
    }
   ],
   "source": [
    "# 6-1\n",
    "a ={'kim99':12000,'lee66':11000,'han55':3000,'hong77':5000,'hwang33':18000}\n",
    "\n",
    "i=1\n",
    "for key in a:\n",
    "    print('%d. 아이디 : %s , 마일리지 : %d점'%(i,key,a[key]))\n",
    "    i +=1"
   ]
  },
  {
   "cell_type": "code",
   "execution_count": 2,
   "metadata": {},
   "outputs": [
    {
     "name": "stdout",
     "output_type": "stream",
     "text": [
      "han55님의 마일리지가 5000점으로 수정되었습니다\n"
     ]
    }
   ],
   "source": [
    "# 6-2\n",
    "a['han55']=5000\n",
    "print('han55님의 마일리지가 %d점으로 수정되었습니다'%a['han55'])"
   ]
  },
  {
   "cell_type": "code",
   "execution_count": 3,
   "metadata": {},
   "outputs": [
    {
     "name": "stdout",
     "output_type": "stream",
     "text": [
      "{'kim99': 12000, 'lee66': 11000, 'han55': 5000, 'hong77': 5000, 'hwang33': 18000, 'jang88': 7000}\n",
      "jang88님의 마일리지가 7000점으로 수정되었습니다\n"
     ]
    }
   ],
   "source": [
    "# 6-3\n",
    "a['jang88']=7000\n",
    "print(a)\n",
    "print('jang88님의 마일리지가 %d점으로 수정되었습니다'%a['jang88'])"
   ]
  },
  {
   "cell_type": "code",
   "execution_count": 4,
   "metadata": {},
   "outputs": [
    {
     "name": "stdout",
     "output_type": "stream",
     "text": [
      "hwang33님의 마일리지가 18000점이 가장 높은 점수입니다.\n"
     ]
    }
   ],
   "source": [
    "# 6-4\n",
    "def f1(x):\n",
    "    return a[x]\n",
    "\n",
    "key_max = max(a.keys(), key=f1)\n",
    "\n",
    "print('%s님의 마일리지가 %d점이 가장 높은 점수입니다.'%(key_max,a[key_max]))"
   ]
  },
  {
   "cell_type": "code",
   "execution_count": 5,
   "metadata": {},
   "outputs": [
    {
     "name": "stdout",
     "output_type": "stream",
     "text": [
      "--------------------------------------------------\n",
      "월     화     수     목     금     토     일     \n",
      "--------------------------------------------------\n",
      "25.5  28.3  33.2  32.1  17.3  35.3  33.3  \n",
      "--------------------------------------------------\n"
     ]
    }
   ],
   "source": [
    "# 6-5\n",
    "print('-'*50)\n",
    "b = {'월':25.5,'화':28.3,'수':33.2,'목':32.1,'금':17.3,'토':35.3,'일':33.3}\n",
    "for key in b:\n",
    "    print('%s'%(key), end='     ')\n",
    "print()\n",
    "print('-'*50)\n",
    "for key in b:\n",
    "    print('%.1f'% b[key], end='  ')\n",
    "print()\n",
    "print('-'*50)    "
   ]
  },
  {
   "cell_type": "code",
   "execution_count": 6,
   "metadata": {},
   "outputs": [
    {
     "name": "stdout",
     "output_type": "stream",
     "text": [
      "가장 낮은 최고 기온 : 17.3º\n"
     ]
    }
   ],
   "source": [
    "# 6-6\n",
    "def f1(x):\n",
    "    return a[x]\n",
    "\n",
    "key_min = min(b.keys(), key=(lambda k: b[k]))\n",
    "\n",
    "print('가장 낮은 최고 기온 : %sº'%(b[key_min]))"
   ]
  },
  {
   "cell_type": "code",
   "execution_count": null,
   "metadata": {},
   "outputs": [],
   "source": []
  },
  {
   "cell_type": "code",
   "execution_count": 7,
   "metadata": {},
   "outputs": [
    {
     "name": "stdout",
     "output_type": "stream",
     "text": [
      "기온이 30º 이상인 요일 : 수 목 토 일 "
     ]
    }
   ],
   "source": [
    "# 6-7\n",
    "\n",
    "print('기온이 30º 이상인 요일 : ', end='')\n",
    "for key in b:\n",
    "    if b[key] >= 30 :\n",
    "        print(key, end=' ')      "
   ]
  },
  {
   "cell_type": "code",
   "execution_count": 8,
   "metadata": {},
   "outputs": [
    {
     "name": "stdout",
     "output_type": "stream",
     "text": [
      "기온이 30º 이상인 요일 : 33\n"
     ]
    }
   ],
   "source": [
    "print('기온이 30º 이상인 요일 : %d'%(b[key]))"
   ]
  },
  {
   "cell_type": "code",
   "execution_count": 9,
   "metadata": {},
   "outputs": [
    {
     "name": "stdout",
     "output_type": "stream",
     "text": [
      "일주일간 최고 기온의 평균 : 29.3\n"
     ]
    }
   ],
   "source": [
    "# 6-8\n",
    "sum=0\n",
    "for key in b:\n",
    "    sum +=b[key] \n",
    "\n",
    "avg=sum/len(b)\n",
    "\n",
    "print('일주일간 최고 기온의 평균 : %.1f'%(avg))"
   ]
  },
  {
   "cell_type": "code",
   "execution_count": null,
   "metadata": {},
   "outputs": [],
   "source": []
  },
  {
   "cell_type": "markdown",
   "metadata": {},
   "source": [
    "# 7장 연습문제"
   ]
  },
  {
   "cell_type": "code",
   "execution_count": 10,
   "metadata": {},
   "outputs": [
    {
     "name": "stdout",
     "output_type": "stream",
     "text": [
      "20,10\n"
     ]
    }
   ],
   "source": [
    "# 7-1\n",
    "def f1(a):\n",
    "    a += 10\n",
    "    print(a, end=',')\n",
    "    \n",
    "a = 10\n",
    "f1(a)\n",
    "print(a)"
   ]
  },
  {
   "cell_type": "code",
   "execution_count": 11,
   "metadata": {},
   "outputs": [
    {
     "name": "stdout",
     "output_type": "stream",
     "text": [
      "300,100,300\n"
     ]
    }
   ],
   "source": [
    "# 7-2\n",
    "def f2(a):\n",
    "    global y\n",
    "    y +=a\n",
    "    x = 500\n",
    "    print(y, end=',')\n",
    "    \n",
    "x = 100\n",
    "y = 200\n",
    "f2(x)\n",
    "print(x, end=',')\n",
    "print(y)"
   ]
  },
  {
   "cell_type": "code",
   "execution_count": 12,
   "metadata": {},
   "outputs": [
    {
     "name": "stdout",
     "output_type": "stream",
     "text": [
      "n 값을 입력해 주세요 : \n"
     ]
    },
    {
     "ename": "ValueError",
     "evalue": "invalid literal for int() with base 10: ''",
     "output_type": "error",
     "traceback": [
      "\u001b[1;31m---------------------------------------------------------------------------\u001b[0m",
      "\u001b[1;31mValueError\u001b[0m                                Traceback (most recent call last)",
      "\u001b[1;32m<ipython-input-12-36665b5e4b96>\u001b[0m in \u001b[0;36m<module>\u001b[1;34m\u001b[0m\n\u001b[0;32m      8\u001b[0m       \u001b[1;32mreturn\u001b[0m \u001b[0mprime_yes\u001b[0m\u001b[1;33m\u001b[0m\u001b[1;33m\u001b[0m\u001b[0m\n\u001b[0;32m      9\u001b[0m \u001b[1;33m\u001b[0m\u001b[0m\n\u001b[1;32m---> 10\u001b[1;33m \u001b[0mn\u001b[0m \u001b[1;33m=\u001b[0m \u001b[0mint\u001b[0m\u001b[1;33m(\u001b[0m\u001b[0minput\u001b[0m\u001b[1;33m(\u001b[0m\u001b[1;34m'n 값을 입력해 주세요 : '\u001b[0m\u001b[1;33m)\u001b[0m\u001b[1;33m)\u001b[0m\u001b[1;33m\u001b[0m\u001b[1;33m\u001b[0m\u001b[0m\n\u001b[0m\u001b[0;32m     11\u001b[0m \u001b[1;33m\u001b[0m\u001b[0m\n\u001b[0;32m     12\u001b[0m \u001b[0mprint\u001b[0m\u001b[1;33m(\u001b[0m\u001b[1;34m'2 ~ %d까지의 정수 중 소수 :'\u001b[0m \u001b[1;33m%\u001b[0m \u001b[0mn\u001b[0m\u001b[1;33m,\u001b[0m \u001b[0mend\u001b[0m \u001b[1;33m=\u001b[0m \u001b[1;34m' '\u001b[0m\u001b[1;33m)\u001b[0m\u001b[1;33m\u001b[0m\u001b[1;33m\u001b[0m\u001b[0m\n",
      "\u001b[1;31mValueError\u001b[0m: invalid literal for int() with base 10: ''"
     ]
    }
   ],
   "source": [
    "# 7-3\n",
    "def isPrimeNumber(num) :\n",
    "      prime_yes = True \n",
    "      for i in range(2, a) : \n",
    "            if a % i == 0 : \n",
    "                  prime_yes = False \n",
    "                  break\n",
    "      return prime_yes\n",
    "\n",
    "n = int(input('n 값을 입력해 주세요 : '))\n",
    "\n",
    "print('2 ~ %d까지의 정수 중 소수 :' % n, end = ' ')\n",
    "for a in range(2, n+1) :\n",
    "      is_prime = isPrimeNumber(a)\n",
    "      if is_prime :\n",
    "            print(a, end=' ')"
   ]
  },
  {
   "cell_type": "code",
   "execution_count": 13,
   "metadata": {},
   "outputs": [
    {
     "name": "stdout",
     "output_type": "stream",
     "text": [
      "문자열을 입력하세요l love\n",
      "evol l\n"
     ]
    }
   ],
   "source": [
    "# 7-4\n",
    "s = input(\"문자열을 입력하세요\")\n",
    "print(''.join(reversed(s)))"
   ]
  },
  {
   "cell_type": "code",
   "execution_count": 14,
   "metadata": {},
   "outputs": [
    {
     "name": "stdout",
     "output_type": "stream",
     "text": [
      "[1, 4, 9, 16, 25]\n"
     ]
    }
   ],
   "source": [
    "# 7-5\n",
    "def numSquare(num):\n",
    "    list_new =[]\n",
    "    for i in range(1, num+1):\n",
    "        list_new.append(i**2)\n",
    "        \n",
    "    return list_new\n",
    "\n",
    "n = 5\n",
    "result = numSquare(n)\n",
    "print(result)"
   ]
  },
  {
   "cell_type": "code",
   "execution_count": 16,
   "metadata": {},
   "outputs": [
    {
     "name": "stdout",
     "output_type": "stream",
     "text": [
      "첫번째 숫자를 입력하세요: 1\n",
      "두번째 숫자를 입력하세요: 3\n",
      "두 수의 최소 공배수는 3 입니다.\n"
     ]
    }
   ],
   "source": [
    "# 7-6\n",
    "number1 = int(input(\"첫번째 숫자를 입력하세요: \"))\n",
    "number2 = int(input(\"두번째 숫자를 입력하세요: \"))\n",
    "t_num = 0\n",
    "if number1 > number2 :\n",
    "    t_num = number1\n",
    "else :\n",
    "    t_num = number2\n",
    "\n",
    "while t_num:\n",
    "    if t_num % number1 == 0 and t_num % number2 == 0 :\n",
    "        print(\"두 수의 최소 공배수는 %d 입니다.\" % t_num)\n",
    "        break\n",
    "    t_num += 1"
   ]
  },
  {
   "cell_type": "code",
   "execution_count": 17,
   "metadata": {},
   "outputs": [
    {
     "name": "stdout",
     "output_type": "stream",
     "text": [
      "※ 비밀번호는 10자리 이상, 영문 대문자를 포함하여야 합니다.\n",
      "비밀번호 : \n",
      "비밀번호 확인: \n",
      "비밀번호가 잘못되었습니다! 다시 입력해 주세요\n",
      "비밀번호: \n",
      "비밀번호 확인 : \n",
      "비밀번호가 잘못되었습니다! 다시 입력해 주세요\n",
      "비밀번호: \n",
      "비밀번호 확인 : \n",
      "비밀번호가 잘못되었습니다! 다시 입력해 주세요\n",
      "비밀번호: \n",
      "비밀번호 확인 : 1234\n",
      "비밀번호가 잘못되었습니다! 다시 입력해 주세요\n",
      "비밀번호: 1234\n",
      "비밀번호 확인 : 1234\n",
      "비밀번호가 잘못되었습니다! 다시 입력해 주세요\n",
      "비밀번호: 1234\n",
      "비밀번호 확인 : 1234\n",
      "비밀번호가 잘못되었습니다! 다시 입력해 주세요\n"
     ]
    },
    {
     "ename": "KeyboardInterrupt",
     "evalue": "Interrupted by user",
     "output_type": "error",
     "traceback": [
      "\u001b[1;31m---------------------------------------------------------------------------\u001b[0m",
      "\u001b[1;31mKeyboardInterrupt\u001b[0m                         Traceback (most recent call last)",
      "\u001b[1;32m<ipython-input-17-8ae3ab72ec70>\u001b[0m in \u001b[0;36m<module>\u001b[1;34m\u001b[0m\n\u001b[0;32m     30\u001b[0m             \u001b[0mprint\u001b[0m\u001b[1;33m(\u001b[0m\u001b[1;34m'비밀번호와 비밀번호 확인이 서로 다릅니다! 다시 입력해 주세요!'\u001b[0m\u001b[1;33m)\u001b[0m\u001b[1;33m\u001b[0m\u001b[1;33m\u001b[0m\u001b[0m\n\u001b[0;32m     31\u001b[0m \u001b[1;33m\u001b[0m\u001b[0m\n\u001b[1;32m---> 32\u001b[1;33m     \u001b[0mpassword1\u001b[0m \u001b[1;33m=\u001b[0m \u001b[0minput\u001b[0m\u001b[1;33m(\u001b[0m\u001b[1;34m'비밀번호: '\u001b[0m\u001b[1;33m)\u001b[0m\u001b[1;33m\u001b[0m\u001b[1;33m\u001b[0m\u001b[0m\n\u001b[0m\u001b[0;32m     33\u001b[0m     \u001b[0mpassword2\u001b[0m \u001b[1;33m=\u001b[0m \u001b[0minput\u001b[0m\u001b[1;33m(\u001b[0m\u001b[1;34m'비밀번호 확인 : '\u001b[0m\u001b[1;33m)\u001b[0m\u001b[1;33m\u001b[0m\u001b[1;33m\u001b[0m\u001b[0m\n\u001b[0;32m     34\u001b[0m \u001b[1;33m\u001b[0m\u001b[0m\n",
      "\u001b[1;32mC:\\ProgramData\\Anaconda3\\envs\\tf2\\lib\\site-packages\\ipykernel\\kernelbase.py\u001b[0m in \u001b[0;36mraw_input\u001b[1;34m(self, prompt)\u001b[0m\n\u001b[0;32m    861\u001b[0m             \u001b[0mself\u001b[0m\u001b[1;33m.\u001b[0m\u001b[0m_parent_ident\u001b[0m\u001b[1;33m,\u001b[0m\u001b[1;33m\u001b[0m\u001b[1;33m\u001b[0m\u001b[0m\n\u001b[0;32m    862\u001b[0m             \u001b[0mself\u001b[0m\u001b[1;33m.\u001b[0m\u001b[0m_parent_header\u001b[0m\u001b[1;33m,\u001b[0m\u001b[1;33m\u001b[0m\u001b[1;33m\u001b[0m\u001b[0m\n\u001b[1;32m--> 863\u001b[1;33m             \u001b[0mpassword\u001b[0m\u001b[1;33m=\u001b[0m\u001b[1;32mFalse\u001b[0m\u001b[1;33m,\u001b[0m\u001b[1;33m\u001b[0m\u001b[1;33m\u001b[0m\u001b[0m\n\u001b[0m\u001b[0;32m    864\u001b[0m         )\n\u001b[0;32m    865\u001b[0m \u001b[1;33m\u001b[0m\u001b[0m\n",
      "\u001b[1;32mC:\\ProgramData\\Anaconda3\\envs\\tf2\\lib\\site-packages\\ipykernel\\kernelbase.py\u001b[0m in \u001b[0;36m_input_request\u001b[1;34m(self, prompt, ident, parent, password)\u001b[0m\n\u001b[0;32m    902\u001b[0m             \u001b[1;32mexcept\u001b[0m \u001b[0mKeyboardInterrupt\u001b[0m\u001b[1;33m:\u001b[0m\u001b[1;33m\u001b[0m\u001b[1;33m\u001b[0m\u001b[0m\n\u001b[0;32m    903\u001b[0m                 \u001b[1;31m# re-raise KeyboardInterrupt, to truncate traceback\u001b[0m\u001b[1;33m\u001b[0m\u001b[1;33m\u001b[0m\u001b[1;33m\u001b[0m\u001b[0m\n\u001b[1;32m--> 904\u001b[1;33m                 \u001b[1;32mraise\u001b[0m \u001b[0mKeyboardInterrupt\u001b[0m\u001b[1;33m(\u001b[0m\u001b[1;34m\"Interrupted by user\"\u001b[0m\u001b[1;33m)\u001b[0m \u001b[1;32mfrom\u001b[0m \u001b[1;32mNone\u001b[0m\u001b[1;33m\u001b[0m\u001b[1;33m\u001b[0m\u001b[0m\n\u001b[0m\u001b[0;32m    905\u001b[0m             \u001b[1;32mexcept\u001b[0m \u001b[0mException\u001b[0m \u001b[1;32mas\u001b[0m \u001b[0me\u001b[0m\u001b[1;33m:\u001b[0m\u001b[1;33m\u001b[0m\u001b[1;33m\u001b[0m\u001b[0m\n\u001b[0;32m    906\u001b[0m                 \u001b[0mself\u001b[0m\u001b[1;33m.\u001b[0m\u001b[0mlog\u001b[0m\u001b[1;33m.\u001b[0m\u001b[0mwarning\u001b[0m\u001b[1;33m(\u001b[0m\u001b[1;34m\"Invalid Message:\"\u001b[0m\u001b[1;33m,\u001b[0m \u001b[0mexc_info\u001b[0m\u001b[1;33m=\u001b[0m\u001b[1;32mTrue\u001b[0m\u001b[1;33m)\u001b[0m\u001b[1;33m\u001b[0m\u001b[1;33m\u001b[0m\u001b[0m\n",
      "\u001b[1;31mKeyboardInterrupt\u001b[0m: Interrupted by user"
     ]
    }
   ],
   "source": [
    "# 7-7\n",
    "def isValid(p) : \n",
    "   if len(p) < 10 : \n",
    "      return False \n",
    "\n",
    "   is_num = False \n",
    "   is_upper = False \n",
    "\n",
    "   for ch in p : \n",
    "      if ch >= 'A' and ch <= 'Z' : \n",
    "         is_upper = True \n",
    "      if ch >= '0' and ch <= '9' : \n",
    "         is_num = True \n",
    "\n",
    "   return is_upper and is_num \n",
    "\n",
    "\n",
    "print('※ 비밀번호는 10자리 이상, 영문 대문자를 포함하여야 합니다.') \n",
    "\n",
    "password1 = input('비밀번호 : ') \n",
    "password2 = input('비밀번호 확인: ') \n",
    "\n",
    "while True :\n",
    "    if isValid(password1) and password1 == password2 :\n",
    "        break\n",
    "    else :\n",
    "        if not isValid(password1) :  \n",
    "            print('비밀번호가 잘못되었습니다! 다시 입력해 주세요')\n",
    "        else :  \n",
    "            print('비밀번호와 비밀번호 확인이 서로 다릅니다! 다시 입력해 주세요!')\n",
    "\n",
    "    password1 = input('비밀번호: ') \n",
    "    password2 = input('비밀번호 확인 : ') \n",
    "\n",
    "print('유효한 비밀번호입니다~~~')"
   ]
  },
  {
   "cell_type": "code",
   "execution_count": null,
   "metadata": {},
   "outputs": [],
   "source": [
    "# 7-8"
   ]
  }
 ],
 "metadata": {
  "kernelspec": {
   "display_name": "Python 3",
   "language": "python",
   "name": "python3"
  },
  "language_info": {
   "codemirror_mode": {
    "name": "ipython",
    "version": 3
   },
   "file_extension": ".py",
   "mimetype": "text/x-python",
   "name": "python",
   "nbconvert_exporter": "python",
   "pygments_lexer": "ipython3",
   "version": "3.7.7"
  }
 },
 "nbformat": 4,
 "nbformat_minor": 4
}
