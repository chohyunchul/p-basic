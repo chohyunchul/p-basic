{
 "cells": [
  {
   "cell_type": "code",
   "execution_count": 1,
   "metadata": {},
   "outputs": [
    {
     "ename": "SyntaxError",
     "evalue": "invalid syntax (<ipython-input-1-03b00bc65086>, line 1)",
     "output_type": "error",
     "traceback": [
      "\u001b[1;36m  File \u001b[1;32m\"<ipython-input-1-03b00bc65086>\"\u001b[1;36m, line \u001b[1;32m1\u001b[0m\n\u001b[1;33m    def i in range\u001b[0m\n\u001b[1;37m           ^\u001b[0m\n\u001b[1;31mSyntaxError\u001b[0m\u001b[1;31m:\u001b[0m invalid syntax\n"
     ]
    }
   ],
   "source": [
    "def i in range"
   ]
  },
  {
   "cell_type": "code",
   "execution_count": null,
   "metadata": {},
   "outputs": [],
   "source": [
    "lst=list(range(1000,10000)) #4자리 소수를 찾아야 하므로 1000이상 10000미만의 숫자 리스트 생성\n",
    "for n in range(1000,10000):\n",
    "    for k in range(2,int(n**(1/2))+1):\n",
    "        if n%k==0:\n",
    "            lst.remove(n)\n",
    "            break"
   ]
  },
  {
   "cell_type": "code",
   "execution_count": null,
   "metadata": {},
   "outputs": [],
   "source": [
    "for i in rang (1, 4):\n",
    "    for j in rang(1,4)\n",
    "    i+1=i , j+1\n",
    "    print(i*J)"
   ]
  },
  {
   "cell_type": "code",
   "execution_count": 2,
   "metadata": {},
   "outputs": [
    {
     "name": "stdout",
     "output_type": "stream",
     "text": [
      "1049 1499 1949\n",
      "1063 3613 6163\n",
      "1259 2129 2999\n",
      "1279 1999 2719\n",
      "1321 2221 3121\n",
      "1427 2777 4127\n",
      "1439 3191 4943\n",
      "1453 3433 5413\n",
      "1471 4441 7411\n",
      "1487 4817 8147 *\n",
      "2063 2633 3203\n",
      "2131 2221 2311\n",
      "2243 2333 2423\n",
      "2417 2447 2477\n",
      "2467 4447 6427\n",
      "2473 3373 4273\n",
      "2543 3533 4523\n",
      "2609 6269 9929\n",
      "2647 4447 6247\n",
      "2969 6299 9629 *\n",
      "3169 3391 3613\n",
      "3457 4447 5437\n",
      "3469 4969 6469\n",
      "3547 4447 5347\n",
      "3659 6599 9539\n",
      "3691 6661 9631\n",
      "3697 3733 3769\n",
      "3697 6733 9769\n",
      "3769 6733 9697\n",
      "3947 4373 4799\n",
      "3967 6967 9967\n",
      "4021 4111 4201\n",
      "4057 5557 7057\n",
      "4261 4441 4621\n",
      "4549 4999 5449\n",
      "4567 5557 6547\n",
      "4861 6661 8461\n",
      "5197 7177 9157\n",
      "5281 5581 5881\n",
      "5641 6151 6661\n",
      "5821 5851 5881\n",
      "5897 7877 9857\n",
      "5927 7577 9227\n",
      "6037 6337 6637\n",
      "6053 6353 6653\n",
      "6073 6373 6673\n",
      "6073 6703 7333\n",
      "6203 6263 6323\n",
      "6359 6659 6959\n",
      "6379 6673 6967\n",
      "6481 6661 6841\n",
      "6703 6733 6763\n",
      "6793 7393 7993\n",
      "6803 6833 6863\n",
      "6827 7727 8627\n",
      "7481 8111 8741\n",
      "7639 7669 7699\n",
      "8147 8447 8747\n",
      "8369 8669 8969\n",
      "8467 8677 8887\n",
      "9041 9491 9941\n"
     ]
    }
   ],
   "source": [
    "def sosu_check(x):      #소수이면 True 반환\n",
    "    i=2\n",
    "    while(i<=x):        \n",
    "        if x%i==0:\n",
    "            result=False\n",
    "            break\n",
    "        else:\n",
    "            i+=1\n",
    "    if i==x:\n",
    "        result=True\n",
    "    return result\n",
    "\n",
    "def check_num(a,b):     #두번째 입력값이 첫번째 입력값의 각 숫자로만 구성되어 있으면 True 반환\n",
    "    a,b,a_num,b_num,num=str(a),str(b),[],[],0\n",
    "    for i in range (len(a)):\n",
    "        a_num.append(int(a[i]))\n",
    "        b_num.append(int(b[i]))\n",
    "    for i in range (len(a)):\n",
    "        if b_num[i] in a_num:\n",
    "            num+=1\n",
    "    if num==4:\n",
    "        return (True)\n",
    "\n",
    "sosu_group=[]\n",
    "for i in range (1000,10000):\n",
    "    if sosu_check(i)==True:\n",
    "        sosu_group.append(i)\n",
    "\n",
    "for i in range (len(sosu_group)-2):\n",
    "    for j in range (i+1,len(sosu_group)-2):\n",
    "        if check_num(sosu_group[i],sosu_group[j])==True:\n",
    "            inc=sosu_group[j]-sosu_group[i]\n",
    "            if sosu_group[j]+inc in sosu_group:\n",
    "                if check_num(sosu_group[i],sosu_group[j]+inc)==True:\n",
    "                    if inc==3330:\n",
    "                        print (sosu_group[i],sosu_group[j],sosu_group[j]+inc,'*')\n",
    "                    else:\n",
    "                        print (sosu_group[i],sosu_group[j],sosu_group[j]+inc)"
   ]
  },
  {
   "cell_type": "code",
   "execution_count": 3,
   "metadata": {},
   "outputs": [
    {
     "ename": "SyntaxError",
     "evalue": "invalid syntax (<ipython-input-3-640cb3e99698>, line 8)",
     "output_type": "error",
     "traceback": [
      "\u001b[1;36m  File \u001b[1;32m\"<ipython-input-3-640cb3e99698>\"\u001b[1;36m, line \u001b[1;32m8\u001b[0m\n\u001b[1;33m    time = int(input('주간근무') 또는 2(야간근무)을 입력:))\u001b[0m\n\u001b[1;37m                              ^\u001b[0m\n\u001b[1;31mSyntaxError\u001b[0m\u001b[1;31m:\u001b[0m invalid syntax\n"
     ]
    }
   ],
   "source": [
    "print(\"아르바이트 급여 계산 프로그램\")\n",
    "print(\"※ 시급\")\n",
    "print(\"- 주간 근무 : 9,500원\")\n",
    "print(\"- 야간 근무 : 주간 시급 * 1.5 \")\n",
    "\n",
    "hour_rate = 9500\n",
    "\n",
    "time = int(input('주간근무') 또는 2(야간근무)을 입력:))\n",
    "work_hour = int(intput(\"근무 시간을 입력해 주세요\"))\n",
    "\n",
    "if time == 1:\n",
    "    work_time = '주간'\n",
    "    pay = hour_rate*work_hour\n",
    "    "
   ]
  },
  {
   "cell_type": "code",
   "execution_count": null,
   "metadata": {},
   "outputs": [],
   "source": [
    "print(\"기능 선택\")\n",
    "print(\"1. 더하기\")\n",
    "print(\"2. 빼기\")\n",
    "print(\"3. 곱하기\")\n",
    "print(\"4. 나누기\")\n",
    "print()\n",
    "\n",
    "select = input(\"계산기 기능을 선택하세요(1/2/3/4): \")\n",
    "\n",
    "num1 = int(input(\"첫 번째 숫자를 입력하세요: \"))\n",
    "num2 = int(input(\"두 번째 숫자를 입력하세요: \"))\n",
    "\n",
    "if select == \"1\":\n",
    "   print(\"%d + %d = %d\" % (num1, num2, num1 + num2))\n",
    "elif select == \"2\":\n",
    "   print(\"%d - %d = %d\" % (num1, num2, num1 - num2))\n",
    "elif select == \"3\":\n",
    "   print(\"%d * %d = %d\" % (num1, num2, num1 * num2))\n",
    "elif select == \"4\":\n",
    "   print(\"%d / %d = %d\" % (num1, num2, num1 / num2))\n",
    "else:\n",
    "   print(\"입력 숫자가 잘못되었습니다!\")"
   ]
  },
  {
   "cell_type": "code",
   "execution_count": 6,
   "metadata": {},
   "outputs": [
    {
     "name": "stdout",
     "output_type": "stream",
     "text": [
      "아이디를 입력하세요admin\n",
      "해당 콘텐츠 접근이 가능합니다.\n"
     ]
    }
   ],
   "source": [
    "a = input('아이디를 입력하세요')\n",
    "\n",
    "if a == 'admin':\n",
    "    print('해당 콘텐츠 접근이 가능합니다.')\n",
    "else:\n",
    "    level = int(input(\"회원 레벨을 입력해 주세요.\"))\n",
    "    if level >=1 and level <=7:\n",
    "        print('이용가능')\n",
    "    else:\n",
    "        print('꺼저')"
   ]
  },
  {
   "cell_type": "code",
   "execution_count": 9,
   "metadata": {},
   "outputs": [
    {
     "data": {
      "text/plain": [
       "(-10, -7, -4, -1, 2, 5, 8)"
      ]
     },
     "execution_count": 9,
     "metadata": {},
     "output_type": "execute_result"
    }
   ],
   "source": [
    "a = tuple(range(-10,10,3))\n",
    "a"
   ]
  },
  {
   "cell_type": "code",
   "execution_count": null,
   "metadata": {},
   "outputs": [],
   "source": []
  }
 ],
 "metadata": {
  "kernelspec": {
   "display_name": "Python 3",
   "language": "python",
   "name": "python3"
  },
  "language_info": {
   "codemirror_mode": {
    "name": "ipython",
    "version": 3
   },
   "file_extension": ".py",
   "mimetype": "text/x-python",
   "name": "python",
   "nbconvert_exporter": "python",
   "pygments_lexer": "ipython3",
   "version": "3.7.6"
  }
 },
 "nbformat": 4,
 "nbformat_minor": 4
}
