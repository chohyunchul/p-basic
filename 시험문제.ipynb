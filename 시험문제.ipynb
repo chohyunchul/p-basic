{
 "cells": [
  {
   "cell_type": "code",
   "execution_count": 1,
   "metadata": {},
   "outputs": [],
   "source": [
    "import matplotlib as mpl\n",
    "import matplotlib.pyplot as plt\n",
    "# 화면에 그래프 그리기\n",
    "%matplotlib inline\n",
    "# Korean Setting , Minus 표시\n",
    "mpl.rcParams['axes.unicode_minus'] = False\n",
    "# family = 폰트 이름 size = 사이즈 크기\n",
    "mpl.rc('font', family='D2Coding', size=25)\n",
    "# Graph 크기 변경\n",
    "plt.rcParams[\"figure.figsize\"]= (15,9)"
   ]
  },
  {
   "cell_type": "code",
   "execution_count": 2,
   "metadata": {},
   "outputs": [],
   "source": [
    "from bs4 import BeautifulSoup\n",
    "from urllib.request import urlopen\n",
    "from tqdm import tqdm_notebook\n",
    "import time"
   ]
  },
  {
   "cell_type": "code",
   "execution_count": 4,
   "metadata": {},
   "outputs": [
    {
     "ename": "NameError",
     "evalue": "name 'rows' is not defined",
     "output_type": "error",
     "traceback": [
      "\u001b[1;31m---------------------------------------------------------------------------\u001b[0m",
      "\u001b[1;31mNameError\u001b[0m                                 Traceback (most recent call last)",
      "\u001b[1;32m<ipython-input-4-b50c1d06eb81>\u001b[0m in \u001b[0;36m<module>\u001b[1;34m\u001b[0m\n\u001b[0;32m      1\u001b[0m \u001b[1;31m#1\u001b[0m\u001b[1;33m\u001b[0m\u001b[1;33m\u001b[0m\u001b[1;33m\u001b[0m\u001b[0m\n\u001b[1;32m----> 2\u001b[1;33m \u001b[1;32mfor\u001b[0m \u001b[0mn\u001b[0m \u001b[1;32min\u001b[0m \u001b[0mrange\u001b[0m\u001b[1;33m(\u001b[0m\u001b[1;36m1\u001b[0m\u001b[1;33m,\u001b[0m \u001b[0mrows\u001b[0m\u001b[1;33m+\u001b[0m\u001b[1;36m1\u001b[0m\u001b[1;33m)\u001b[0m\u001b[1;33m:\u001b[0m\u001b[1;33m\u001b[0m\u001b[1;33m\u001b[0m\u001b[0m\n\u001b[0m\u001b[0;32m      3\u001b[0m     print(( ' ' *(rows-n) + '*'*(2*n-1)),  \n\u001b[0;32m      4\u001b[0m           (  '  ' *(rows-n) + '*'*(2*n-1)))\n",
      "\u001b[1;31mNameError\u001b[0m: name 'rows' is not defined"
     ]
    }
   ],
   "source": [
    "#1\n",
    "for n in range(1, rows+1):\n",
    "    print( ' ' *(rows-n) + '*'*(2*n-1),  \n",
    "          (  '  ' *(rows-n) + '*'*(2*n-1)))\n"
   ]
  },
  {
   "cell_type": "code",
   "execution_count": null,
   "metadata": {},
   "outputs": [],
   "source": [
    "#3\n",
    "import numpy as np"
   ]
  },
  {
   "cell_type": "code",
   "execution_count": null,
   "metadata": {},
   "outputs": [],
   "source": [
    "# 2\n",
    "x = np.arange(-2.0, 2.0, 0.1) \n",
    "y = np.tanh(x)\n",
    "\n",
    "plt.plot(x, y)\n",
    "plt.plot([0,0],[1.0,-1.0], ':')\n",
    "plt.axhline(y=0, color='orange', linestyle='--')\n",
    "plt.title('Tanh Function')\n",
    "plt.show()"
   ]
  },
  {
   "cell_type": "code",
   "execution_count": null,
   "metadata": {},
   "outputs": [],
   "source": [
    "import requests\n",
    "from bs4 import BeautifulSoup\n",
    " \n",
    "if __name__ == \"__main__\":\n",
    "    RANK = 100 ## 멜론 차트 순위가 1 ~ 100위까지 있음\n",
    " \n",
    "    header = {'User-Agent': 'Mozilla/5.0 (Windows NT 6.3; Trident/7.0; rv:11.0) like Gecko'}\n",
    "    req = requests.get('https://www.melon.com/chart/month/index.htm', headers = header) ## 주간 차트를 크롤링 할 것임\n",
    "    html = req.text\n",
    "    parse = BeautifulSoup(html, 'html.parser')\n",
    " \n",
    "    titles = parse.find_all(\"div\", {\"class\": \"ellipsis rank01\"}) \n",
    "    singers = parse.find_all(\"div\", {\"class\": \"ellipsis rank02\"}) \n",
    "    albums = parse.find_all(\"div\",{\"class\": \"ellipsis rank03\"})\n",
    " \n",
    "    title = []\n",
    "    singer = []\n",
    "    album = []\n",
    " \n",
    "    for t in titles:\n",
    "        title.append(t.find('a').text)\n",
    " \n",
    "    for s in singers:\n",
    "        singer.append(s.find('span', {\"class\": \"checkEllipsis\"}).text)\n",
    "\n",
    "    for a in albums:\n",
    "        album.append(a.find('a').text)\n",
    " \n",
    "    for i in range(RANK):\n",
    "        print('%3d위: %s [ %s ] - %s'%(i+1, title[i], album[i], singer[i]))"
   ]
  },
  {
   "cell_type": "code",
   "execution_count": null,
   "metadata": {},
   "outputs": [],
   "source": []
  }
 ],
 "metadata": {
  "kernelspec": {
   "display_name": "Python 3",
   "language": "python",
   "name": "python3"
  },
  "language_info": {
   "codemirror_mode": {
    "name": "ipython",
    "version": 3
   },
   "file_extension": ".py",
   "mimetype": "text/x-python",
   "name": "python",
   "nbconvert_exporter": "python",
   "pygments_lexer": "ipython3",
   "version": "3.7.6"
  }
 },
 "nbformat": 4,
 "nbformat_minor": 4
}
