{
 "cells": [
  {
   "cell_type": "markdown",
   "metadata": {},
   "source": [
    "# 4장 연습문제 "
   ]
  },
  {
   "cell_type": "code",
   "execution_count": 48,
   "metadata": {},
   "outputs": [
    {
     "name": "stdout",
     "output_type": "stream",
     "text": [
      "**********\n",
      "**********\n",
      "**********\n",
      "**********\n",
      "**********\n"
     ]
    }
   ],
   "source": [
    "# 1.for 문을 이용하여 실행 결과와 같은 형태로 출력하는 프로그램을 작성하시오\n",
    "for i in range(5):\n",
    "    print('*'*10)"
   ]
  },
  {
   "cell_type": "code",
   "execution_count": 36,
   "metadata": {},
   "outputs": [
    {
     "name": "stdout",
     "output_type": "stream",
     "text": [
      "**********\n",
      "**********\n",
      "**********\n",
      "**********\n",
      "**********\n"
     ]
    }
   ],
   "source": [
    "# 2. \n",
    "i=0\n",
    "\n",
    "while i < 5 :\n",
    "    print('**********')\n",
    "    i +=1"
   ]
  },
  {
   "cell_type": "code",
   "execution_count": 37,
   "metadata": {},
   "outputs": [
    {
     "name": "stdout",
     "output_type": "stream",
     "text": [
      "666666\n",
      "55555\n",
      "4444\n",
      "333\n",
      "22\n",
      "1\n"
     ]
    }
   ],
   "source": [
    "# 3.\n",
    "for i in range(6,0,-1):\n",
    "    for j in range(1,i+1):\n",
    "        print(i, end='')\n",
    "    print()"
   ]
  },
  {
   "cell_type": "code",
   "execution_count": 38,
   "metadata": {},
   "outputs": [
    {
     "name": "stdout",
     "output_type": "stream",
     "text": [
      "0\n",
      "01\n",
      "012\n",
      "0123\n",
      "01234\n",
      "012345\n"
     ]
    }
   ],
   "source": [
    "# 4.\n",
    "for i in range(0,6):\n",
    "    for j in range(0,i+1):\n",
    "        print(j, end='')\n",
    "    print()"
   ]
  },
  {
   "cell_type": "code",
   "execution_count": 5,
   "metadata": {},
   "outputs": [
    {
     "name": "stdout",
     "output_type": "stream",
     "text": [
      "********\n",
      "*       *\n",
      "*       *\n",
      "*       *\n",
      "*       *\n",
      "*       *\n",
      "*       *\n",
      "*       *\n",
      "*       *\n",
      "********"
     ]
    }
   ],
   "source": [
    "# 5.\n",
    "for i in range(8):\n",
    "    print('*',end='')\n",
    "print()\n",
    "for j in range(8):\n",
    "    for i in range(9):\n",
    "        if i == 0 or i == 8 : \n",
    "            print('*',end='') \n",
    "        else: \n",
    "            print(' ',end='') \n",
    "    print()    \n",
    "for i in range(8):\n",
    "    print('*',end='')"
   ]
  },
  {
   "cell_type": "code",
   "execution_count": 6,
   "metadata": {},
   "outputs": [
    {
     "name": "stdout",
     "output_type": "stream",
     "text": [
      "1 3 5 7 9 11 13 15 17 19 21 23 25 27 29 31 33 35 37 39 41 43 45 47 49 51 53 55 57 59 61 63 65 67 69 71 73 75 77 79 81 83 85 87 89 91 93 95 97 99 \n",
      " --------------------------------------------------\n",
      "1~100에서 홀수의 합계 :  2500\n"
     ]
    }
   ],
   "source": [
    "# 6.\n",
    "sum=0\n",
    "for i in range(1,100):\n",
    "    if i%2 == 1:\n",
    "        print('%d' %i, end = ' ')\n",
    "        sum +=i\n",
    "        \n",
    "print('\\n','-'*50)\n",
    "print('1~100에서 홀수의 합계 :  %d'%sum)"
   ]
  },
  {
   "cell_type": "code",
   "execution_count": 49,
   "metadata": {},
   "outputs": [
    {
     "name": "stdout",
     "output_type": "stream",
     "text": [
      "n의 값을 입력하세요12\n",
      "N의 값은 : 12\n",
      "744010475682\n"
     ]
    }
   ],
   "source": [
    "# 7.\n",
    "n=input('n의 값을 입력하세요')\n",
    "n=int(n)\n",
    "print('N의 값은 : %d' %n)\n",
    "  \n",
    "sum=0    \n",
    "for a in range(2,n+1,2):\n",
    "    b=a**(a-1)\n",
    "    sum += b\n",
    "print(sum)\n"
   ]
  },
  {
   "cell_type": "code",
   "execution_count": 40,
   "metadata": {},
   "outputs": [
    {
     "name": "stdout",
     "output_type": "stream",
     "text": [
      "n값을 입력해주세요:200\n",
      "2 3 5 7 11 13 17 19 23 29 31 37 41 43 47 53 59 61 67 71 73 79 83 89 97 101 103 107 109 113 127 131 137 139 149 151 157 163 167 173 179 181 191 193 197 199 "
     ]
    }
   ],
   "source": [
    "# 8\n",
    "n=int(input('N값을 입력해주세요:'))\n",
    "\n",
    "for i in range(2, n+1):\n",
    "    for k in range(2, i+1):\n",
    "        if i == k:\n",
    "            print(i, end = ' ')\n",
    "        elif i%k == 0:\n",
    "            break"
   ]
  },
  {
   "cell_type": "code",
   "execution_count": 53,
   "metadata": {},
   "outputs": [
    {
     "name": "stdout",
     "output_type": "stream",
     "text": [
      "--------------------------------------------------\n",
      "달러($), 원화(원), 유로\n",
      "__________________________________________________\n",
      " 10  10800 8.10\n",
      " 20  21600 16.20\n",
      " 30  32400 24.30\n",
      " 40  43200 32.40\n",
      " 50  54000 40.50\n",
      " 60  64800 48.60\n",
      " 70  75600 56.70\n",
      " 80  86400 64.80\n",
      " 90  97200 72.90\n",
      "100 108000 81.00\n",
      "--------------------------------------------------\n"
     ]
    }
   ],
   "source": [
    "# 9\n",
    "print('-'*50)\n",
    "print('달러($), 원화(원), 유로')\n",
    "print('_'*50)\n",
    "\n",
    "for dollar in range(10,101,10):\n",
    "    won = dollar *1080\n",
    "    euro = dollar *0.81\n",
    "    print('%3d %6d %3.2f'%(dollar, won, euro))\n",
    "    \n",
    "print('-'*50)"
   ]
  },
  {
   "cell_type": "code",
   "execution_count": 47,
   "metadata": {},
   "outputs": [
    {
     "name": "stdout",
     "output_type": "stream",
     "text": [
      "--------------------------------------------------\n",
      "cm mm m inch\n",
      "--------------------------------------------------\n",
      " 1    10   0.01  0.39\n",
      " 3    30   0.03  1.18\n",
      " 5    50   0.05  1.97\n",
      " 7    70   0.07  2.76\n",
      " 9    90   0.09  3.54\n",
      "11   110   0.11  4.33\n",
      "13   130   0.13  5.12\n",
      "15   150   0.15  5.91\n",
      "17   170   0.17  6.69\n",
      "19   190   0.19  7.48\n",
      "21   210   0.21  8.27\n",
      "23   230   0.23  9.06\n",
      "25   250   0.25  9.84\n",
      "27   270   0.27  10.63\n",
      "29   290   0.29  11.42\n",
      "31   310   0.31  12.20\n",
      "33   330   0.33  12.99\n",
      "35   350   0.35  13.78\n",
      "37   370   0.37  14.57\n",
      "39   390   0.39  15.35\n",
      "41   410   0.41  16.14\n",
      "43   430   0.43  16.93\n",
      "45   450   0.45  17.72\n",
      "47   470   0.47  18.50\n",
      "49   490   0.49  19.29\n",
      "51   510   0.51  20.08\n",
      "53   530   0.53  20.87\n",
      "55   550   0.55  21.65\n",
      "57   570   0.57  22.44\n",
      "59   590   0.59  23.23\n",
      "61   610   0.61  24.02\n",
      "63   630   0.63  24.80\n",
      "65   650   0.65  25.59\n",
      "67   670   0.67  26.38\n",
      "69   690   0.69  27.17\n",
      "71   710   0.71  27.95\n",
      "73   730   0.73  28.74\n",
      "75   750   0.75  29.53\n",
      "77   770   0.77  30.31\n",
      "79   790   0.79  31.10\n",
      "81   810   0.81  31.89\n",
      "83   830   0.83  32.68\n",
      "85   850   0.85  33.46\n",
      "87   870   0.87  34.25\n",
      "89   890   0.89  35.04\n",
      "91   910   0.91  35.83\n",
      "93   930   0.93  36.61\n",
      "95   950   0.95  37.40\n",
      "97   970   0.97  38.19\n",
      "99   990   0.99  38.98\n"
     ]
    }
   ],
   "source": [
    "# 10\n",
    "print('-'*50)\n",
    "print('cm mm m inch')\n",
    "print('-'*50)\n",
    "\n",
    "for cm in range(1,100,2):\n",
    "    mm=cm*10\n",
    "    m=cm*0.01\n",
    "    inch = cm*0.3937\n",
    "    print('%2d   %3d   %.2f  %2.2f'%(cm,mm,m,inch))"
   ]
  },
  {
   "cell_type": "markdown",
   "metadata": {},
   "source": [
    "# 5장 연습문제"
   ]
  },
  {
   "cell_type": "code",
   "execution_count": 34,
   "metadata": {},
   "outputs": [
    {
     "name": "stdout",
     "output_type": "stream",
     "text": [
      "가장 큰 수 :  10\n"
     ]
    }
   ],
   "source": [
    "# 1\n",
    "a=[-12,3,-9,5,8,-2,0,-8,3,10]\n",
    "maxValue = a[0]\n",
    "for i in range(1, len(a)):\n",
    "    if maxValue < a[i]:\n",
    "        maxValue = a[i]\n",
    "print('가장 큰 수 : ',maxValue)"
   ]
  },
  {
   "cell_type": "code",
   "execution_count": 17,
   "metadata": {},
   "outputs": [
    {
     "name": "stdout",
     "output_type": "stream",
     "text": [
      "총점 : 8, 평균 : 1.60\n"
     ]
    }
   ],
   "source": [
    "# 2\n",
    "data=[-12,3,-9,5,8,-2,0,-8,3,10]\n",
    "\n",
    "i=0\n",
    "sum=0\n",
    "while i < len(data):\n",
    "    if i%2 == 1:       \n",
    "        sum +=data[i]   \n",
    "    i +=1     \n",
    "    \n",
    "avg =sum/5\n",
    "print('총점 : %d, 평균 : %.2f'%(sum,avg))"
   ]
  },
  {
   "cell_type": "code",
   "execution_count": 13,
   "metadata": {},
   "outputs": [
    {
     "name": "stdout",
     "output_type": "stream",
     "text": [
      "[10, 8, 5, 3, 3, 0, -2, -8, -9, -12]\n"
     ]
    }
   ],
   "source": [
    "# 3\n",
    "a=[-12,3,-9,5,8,-2,0,-8,3,10]\n",
    "a.sort(reverse=True)\n",
    "print(a)"
   ]
  },
  {
   "cell_type": "code",
   "execution_count": 21,
   "metadata": {},
   "outputs": [
    {
     "name": "stdout",
     "output_type": "stream",
     "text": [
      "[-12, 3, -9, 100, 5, 8, -2, 0, -8, 3, 10]\n"
     ]
    }
   ],
   "source": [
    "# 4\n",
    "a=[-12,3,-9,5,8,-2,0,-8,3,10]\n",
    "a.insert(3,100)\n",
    "print(a)"
   ]
  },
  {
   "cell_type": "code",
   "execution_count": 24,
   "metadata": {},
   "outputs": [
    {
     "name": "stdout",
     "output_type": "stream",
     "text": [
      "[3, -9, 5, 8, -2, 0, -8, 3, 10]\n"
     ]
    }
   ],
   "source": [
    "# 5\n",
    "a=[-12,3,-9,5,8,-2,0,-8,3,10]\n",
    "a.remove(-12)\n",
    "print(a)"
   ]
  },
  {
   "cell_type": "code",
   "execution_count": 28,
   "metadata": {},
   "outputs": [
    {
     "name": "stdout",
     "output_type": "stream",
     "text": [
      "흑돌의 개수:17\n",
      "백돌의 개수:16\n"
     ]
    }
   ],
   "source": [
    "# 6\n",
    "stone = [[0,0,0,0,0,0,0,0,0],\\\n",
    "         [0,1,0,1,2,1,2,1,0],\\\n",
    "         [0,2,1,1,1,2,2,0,0],\\\n",
    "         [0,0,2,2,2,1,0,2,0],\\\n",
    "         [0,0,0,0,0,1,0,2,1],\\\n",
    "         [0,0,0,2,0,1,2,1,0],\\\n",
    "         [0,0,0,2,1,0,1,1,0],\\\n",
    "         [0,0,0,1,1,0,0,0,0],\\\n",
    "         [0,0,0,0,2,2,2,0,0]]\n",
    "        \n",
    "count_black=0\n",
    "count_white=0\n",
    "\n",
    "for i in range(len(stone)):\n",
    "    count_black+=stone[i].count(1)\n",
    "    count_white+=stone[i].count(2)\n",
    "    \n",
    "print('흑돌의 개수:%d'%count_black)\n",
    "print('백돌의 개수:%d'%count_white)\n",
    "    \n",
    "      "
   ]
  },
  {
   "cell_type": "code",
   "execution_count": 33,
   "metadata": {},
   "outputs": [
    {
     "name": "stdout",
     "output_type": "stream",
     "text": [
      "X X X X X X X X X \n",
      "X B X B W B W B X \n",
      "X W B B B W W X X \n",
      "X X W W W B X W X \n",
      "X X X X X B X W B \n",
      "X X X W X B W B X \n",
      "X X X W B X B B X \n",
      "X X X B B X X X X \n",
      "X X X X W W W X X \n"
     ]
    }
   ],
   "source": [
    "# 7\n",
    "stone = [[0,0,0,0,0,0,0,0,0],\n",
    "         [0,1,0,1,2,1,2,1,0],\n",
    "         [0,2,1,1,1,2,2,0,0],\n",
    "         [0,0,2,2,2,1,0,2,0],\n",
    "         [0,0,0,0,0,1,0,2,1],\n",
    "         [0,0,0,2,0,1,2,1,0],\n",
    "         [0,0,0,2,1,0,1,1,0],\n",
    "         [0,0,0,1,1,0,0,0,0],\n",
    "         [0,0,0,0,2,2,2,0,0]]\n",
    "\n",
    "for i in range(len(stone)):\n",
    "    for k in range(len(stone[i])):\n",
    "        if stone[i][k] == 1:\n",
    "            print('B',end = ' ')\n",
    "        elif stone[i][k] == 2:\n",
    "            print('W',end = ' ')\n",
    "        else:\n",
    "            print('X',end = ' ')\n",
    "    print()\n",
    "        "
   ]
  },
  {
   "cell_type": "code",
   "execution_count": 54,
   "metadata": {},
   "outputs": [
    {
     "name": "stdout",
     "output_type": "stream",
     "text": [
      "  01  02  03  04  05  06  07  08  09  \n",
      "01  X   X   X   X   X   X   X   X   X   \n",
      "02  X   B   X   B   W   B   W   B   X   \n",
      "03  X   W   B   B   B   W   W   X   X   \n",
      "04  X   X   W   W   W   B   X   W   X   \n",
      "05  X   X   X   X   X   B   X   W   B   \n",
      "06  X   X   X   W   X   B   W   B   X   \n",
      "07  X   X   X   W   B   X   B   B   X   \n",
      "08  X   X   X   B   B   X   X   X   X   \n",
      "09  X   X   X   X   W   W   W   X   X   \n"
     ]
    }
   ],
   "source": [
    "# 8\n",
    "stone = [[0,0,0,0,0,0,0,0,0],\n",
    "         [0,1,0,1,2,1,2,1,0],\n",
    "         [0,2,1,1,1,2,2,0,0],\n",
    "         [0,0,2,2,2,1,0,2,0],\n",
    "         [0,0,0,0,0,1,0,2,1],\n",
    "         [0,0,0,2,0,1,2,1,0],\n",
    "         [0,0,0,2,1,0,1,1,0],\n",
    "         [0,0,0,1,1,0,0,0,0],\n",
    "         [0,0,0,0,2,2,2,0,0]]\n",
    "\n",
    "stone.insert(0,[1,2,3,4,5,6,7,8,9])\n",
    "for i in range(len(stone)):\n",
    "    stone[i].insert(0,i)\n",
    "        \n",
    "    \n",
    "for i in range(len(stone)):\n",
    "    for k in range(len(stone[i])):\n",
    "        if i==0 and k==0:\n",
    "            print(' ',end = ' ')\n",
    "        elif i == 0 or k == 0:\n",
    "            print('%02d'%stone[i][k],end = '  ')\n",
    "        else:\n",
    "            if stone[i][k] == 1:\n",
    "                print('B',end = '   ')\n",
    "            elif stone[i][k] == 2:\n",
    "                print('W',end = '   ')\n",
    "            else:\n",
    "                print('X',end = '   ')\n",
    "    print()\n",
    "    "
   ]
  },
  {
   "cell_type": "code",
   "execution_count": 55,
   "metadata": {},
   "outputs": [
    {
     "name": "stdout",
     "output_type": "stream",
     "text": [
      "   01  02  03  04  05  06  07  08  09\n",
      "01  X   X   X   X   X   X   X   X   X   \n",
      "02  X   B   X   B   W   B   W   B   X   \n",
      "03  X   W   B   B   B   W   W   X   X   \n",
      "04  X   X   W   W   W   B   X   W   X   \n",
      "05  X   X   X   X   X   B   X   W   B   \n",
      "06  X   X   X   W   X   B   W   B   X   \n",
      "07  X   X   X   W   B   X   B   B   X   \n",
      "08  X   X   X   B   B   X   X   X   X   \n",
      "09  X   X   X   X   W   W   W   X   X   \n",
      "X축 좌표값을 입력하세요(1~9, 종료 시 -1 입력) : 9\n",
      "Y축 좌표값을 입력하세요(1~9, 종료 시 -1 입력) : 5\n",
      "흑돌\n"
     ]
    }
   ],
   "source": [
    "# Q5-9\n",
    "import sys\n",
    "stone = [[0,0,0,0,0,0,0,0,0],\n",
    "         [0,1,0,1,2,1,2,1,0],\n",
    "         [0,2,1,1,1,2,2,0,0],\n",
    "         [0,0,2,2,2,1,0,2,0],\n",
    "         [0,0,0,0,0,1,0,2,1],\n",
    "         [0,0,0,2,0,1,2,1,0],\n",
    "         [0,0,0,2,1,0,1,1,0],\n",
    "         [0,0,0,1,1,0,0,0,0],\n",
    "         [0,0,0,0,2,2,2,0,0]]\n",
    "\n",
    "print('  ',end = ' ')\n",
    "for i in range(1,10):\n",
    "    if(i==9):\n",
    "        print('0%d'%i)\n",
    "    else:\n",
    "        print('0%d'%i, end='  ')\n",
    "        \n",
    "    \n",
    "for i in range(len(stone)):\n",
    "    print('0%d'%(i+1), end = '  ')\n",
    "    for k in range(len(stone[i])):\n",
    "        if stone[i][k] == 1:\n",
    "            print('B',end = '   ')\n",
    "        elif stone[i][k] == 2:\n",
    "            print('W',end = '   ')\n",
    "        else:\n",
    "            print('X',end = '   ')\n",
    "    print()\n",
    "\n",
    "input_x = int(input('X축 좌표값을 입력하세요(1~9, 종료 시 -1 입력) : '))\n",
    "if input_x == -1:\n",
    "    print('종료되었습니다!')\n",
    "    sys.exit(1)\n",
    "input_y = int(input('Y축 좌표값을 입력하세요(1~9, 종료 시 -1 입력) : '))\n",
    "if input_y == -1:\n",
    "    print('종료되었습니다!')\n",
    "    sys.exit(1)\n",
    "\n",
    "if stone[input_y-1][input_x-1] == 1:\n",
    "    print('흑돌')\n",
    "elif stone[input_y-1][input_x-1] == 2:\n",
    "    print('백돌')\n",
    "else:\n",
    "    print('돌없음')"
   ]
  }
 ],
 "metadata": {
  "kernelspec": {
   "display_name": "Python 3",
   "language": "python",
   "name": "python3"
  },
  "language_info": {
   "codemirror_mode": {
    "name": "ipython",
    "version": 3
   },
   "file_extension": ".py",
   "mimetype": "text/x-python",
   "name": "python",
   "nbconvert_exporter": "python",
   "pygments_lexer": "ipython3",
   "version": "3.7.6"
  }
 },
 "nbformat": 4,
 "nbformat_minor": 4
}
