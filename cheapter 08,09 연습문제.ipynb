{
 "cells": [
  {
   "cell_type": "code",
   "execution_count": 1,
   "metadata": {},
   "outputs": [
    {
     "name": "stdout",
     "output_type": "stream",
     "text": [
      "15\n"
     ]
    }
   ],
   "source": [
    "# 8-1\n",
    "from lib import inc_10\n",
    "\n",
    "print(inc_10(5))"
   ]
  },
  {
   "cell_type": "code",
   "execution_count": 1,
   "metadata": {},
   "outputs": [
    {
     "name": "stdout",
     "output_type": "stream",
     "text": [
      "138\n"
     ]
    }
   ],
   "source": [
    "# 8-2\n",
    "import lib\n",
    "\n",
    "a = lib.mul_20(3)\n",
    "b = a + lib.fact(1,3)\n",
    "c = a + b + lib.inc_10(2)\n",
    "print(c)"
   ]
  },
  {
   "cell_type": "code",
   "execution_count": 1,
   "metadata": {},
   "outputs": [
    {
     "name": "stdout",
     "output_type": "stream",
     "text": [
      "22\n"
     ]
    }
   ],
   "source": [
    "# 8-3\n",
    "import lib as lb\n",
    "\n",
    "a = 1\n",
    "b = 2\n",
    "c = 3\n",
    "\n",
    "d = lb.fact(a,b)\n",
    "d + lb.inc_10(c)\n",
    "e = d + lb.mul_20(a)\n",
    "print(e)"
   ]
  },
  {
   "cell_type": "code",
   "execution_count": 4,
   "metadata": {},
   "outputs": [],
   "source": [
    "# 8-4\n",
    "# shuffle()\n"
   ]
  },
  {
   "cell_type": "code",
   "execution_count": 5,
   "metadata": {},
   "outputs": [],
   "source": [
    "# 8-5\n",
    "# %p"
   ]
  },
  {
   "cell_type": "code",
   "execution_count": null,
   "metadata": {},
   "outputs": [
    {
     "name": "stdout",
     "output_type": "stream",
     "text": [
      "나 : 4\n",
      "당신 :5\n",
      "당신의 승리!\n",
      "계속하려면 y를 입력하세요!y\n",
      "나 : 2\n",
      "당신 :3\n",
      "당신의 승리!\n",
      "계속하려면 y를 입력하세요!y\n",
      "나 : 3\n",
      "당신 :4\n",
      "당신의 승리!\n"
     ]
    }
   ],
   "source": [
    "# 8-6\n",
    "import random \n",
    "\n",
    "again = 'y'\n",
    "\n",
    "while again == 'y':\n",
    "    \n",
    "    me = random.randint(1,6)\n",
    "    computer = random.randint(1,6)\n",
    "    \n",
    "    print('나 : %s'% me)\n",
    "    print('당신 :%s'% computer)\n",
    "    \n",
    "    if me > computer :\n",
    "        print('나의승리!')\n",
    "    elif me == computer : \n",
    "        print('무승부!')\n",
    "    else : \n",
    "        print('당신의 승리!') \n",
    "        \n",
    "    again =input('계속하려면 y를 입력하세요!')"
   ]
  },
  {
   "cell_type": "code",
   "execution_count": 41,
   "metadata": {},
   "outputs": [
    {
     "name": "stdout",
     "output_type": "stream",
     "text": [
      "abcde\n"
     ]
    }
   ],
   "source": [
    "# 9-1\n",
    "class TestClass1:\n",
    "    def sss(self, x):\n",
    "        self.x = x \n",
    "        return x               \n",
    "        \n",
    "cal1 = TestClass1()\n",
    "\n",
    "c = cal1.sss('abcde')\n",
    "print(c)"
   ]
  },
  {
   "cell_type": "code",
   "execution_count": 49,
   "metadata": {},
   "outputs": [
    {
     "name": "stdout",
     "output_type": "stream",
     "text": [
      "이름: 홍길동\n",
      "이메일: test@korea.\n"
     ]
    }
   ],
   "source": [
    "# 9-2\n",
    "class TestClass2:\n",
    "    def __init__(self, name, email):\n",
    "        self.name = name\n",
    "        self.email = email\n",
    "        \n",
    "    def Class2(self):\n",
    "        print('이름: %s'% self.name)\n",
    "        print('이메일: %s'% self.email)\n",
    "        \n",
    "a = TestClass2('홍길동','test@korea.')\n",
    "a.Class2()\n",
    "    "
   ]
  },
  {
   "cell_type": "code",
   "execution_count": 51,
   "metadata": {},
   "outputs": [
    {
     "name": "stdout",
     "output_type": "stream",
     "text": [
      "이름: 홍길동\n",
      "이메일: test@korea.\n"
     ]
    }
   ],
   "source": [
    "# 9-3\n",
    "class TestClass2:\n",
    "    def __init__(self, name, email):\n",
    "        self.name = name\n",
    "        self.email = email\n",
    "        \n",
    "    def PrintInfo(self):\n",
    "        print('이름: %s'% self.name)\n",
    "        print('이메일: %s'% self.email)\n",
    "        \n",
    "a = TestClass2('홍길동','test@korea.')\n",
    "a.PrintInfo()"
   ]
  },
  {
   "cell_type": "code",
   "execution_count": 53,
   "metadata": {},
   "outputs": [
    {
     "name": "stdout",
     "output_type": "stream",
     "text": [
      "이름: 홍길동\n",
      "전화번호: 010-1234-4567\n",
      "주소: 성남시\n"
     ]
    }
   ],
   "source": [
    "# 9-4\n",
    "class Member:\n",
    "    def __init__(self, name, phone, address):\n",
    "        self.name = name\n",
    "        self.phone = phone\n",
    "        self.address = address     \n",
    "        \n",
    "    def PrintInfo(self):\n",
    "        print('이름: %s'% self.name)\n",
    "        print('전화번호: %s'% self.phone)\n",
    "        print('주소: %s'% self.address)        \n",
    "    \n",
    "a = Member('홍길동','010-1234-4567','성남시')\n",
    "a.PrintInfo()"
   ]
  },
  {
   "cell_type": "code",
   "execution_count": 1,
   "metadata": {
    "scrolled": true
   },
   "outputs": [],
   "source": [
    "# 9-5\n",
    "class Member:\n",
    "    def __init__(self, **kwargs):\n",
    "        self.name=kwargs['name']\n",
    "        self.phone=kwargs['phone']\n",
    "        self.address=kwargs['address']\n",
    "        \n",
    "    def PrintInfo(self):\n",
    "        print('이름: %s'% self.name)\n",
    "        print('전화번호: %s'% self.phone)\n",
    "        print('주소: %s'% self.address)   \n",
    "        "
   ]
  },
  {
   "cell_type": "code",
   "execution_count": 2,
   "metadata": {},
   "outputs": [],
   "source": [
    "dict = {'name':'홍길동','phone':'010-1234-5678','address':'성남시'}"
   ]
  },
  {
   "cell_type": "code",
   "execution_count": 4,
   "metadata": {},
   "outputs": [
    {
     "name": "stdout",
     "output_type": "stream",
     "text": [
      "이름: 홍길동\n",
      "전화번호: 010-1234-5678\n",
      "주소: 성남시\n"
     ]
    }
   ],
   "source": [
    "e = Member(**dict)\n",
    "e.PrintInfo()"
   ]
  },
  {
   "cell_type": "code",
   "execution_count": 9,
   "metadata": {},
   "outputs": [
    {
     "ename": "TypeError",
     "evalue": "getAuthorInfo() takes 0 positional arguments but 1 was given",
     "output_type": "error",
     "traceback": [
      "\u001b[1;31m---------------------------------------------------------------------------\u001b[0m",
      "\u001b[1;31mTypeError\u001b[0m                                 Traceback (most recent call last)",
      "\u001b[1;32m<ipython-input-9-3433de1bd0a3>\u001b[0m in \u001b[0;36m<module>\u001b[1;34m\u001b[0m\n\u001b[0;32m     24\u001b[0m \u001b[0mbook1\u001b[0m \u001b[1;33m=\u001b[0m \u001b[0mEbook\u001b[0m\u001b[1;33m(\u001b[0m\u001b[1;34m'홍길동'\u001b[0m\u001b[1;33m,\u001b[0m\u001b[1;34m'지구출판사'\u001b[0m\u001b[1;33m,\u001b[0m\u001b[1;34m'PDF'\u001b[0m\u001b[1;33m)\u001b[0m\u001b[1;33m\u001b[0m\u001b[1;33m\u001b[0m\u001b[0m\n\u001b[0;32m     25\u001b[0m \u001b[1;33m\u001b[0m\u001b[0m\n\u001b[1;32m---> 26\u001b[1;33m \u001b[0mprint\u001b[0m\u001b[1;33m(\u001b[0m\u001b[0mbook1\u001b[0m\u001b[1;33m.\u001b[0m\u001b[0mgetAuthorInfo\u001b[0m\u001b[1;33m(\u001b[0m\u001b[1;33m)\u001b[0m\u001b[1;33m)\u001b[0m\u001b[1;33m\u001b[0m\u001b[1;33m\u001b[0m\u001b[0m\n\u001b[0m\u001b[0;32m     27\u001b[0m \u001b[0mprint\u001b[0m\u001b[1;33m(\u001b[0m\u001b[0mbook1\u001b[0m\u001b[1;33m.\u001b[0m\u001b[0mgetPublishInfo\u001b[0m\u001b[1;33m(\u001b[0m\u001b[1;33m)\u001b[0m\u001b[1;33m)\u001b[0m\u001b[1;33m\u001b[0m\u001b[1;33m\u001b[0m\u001b[0m\n\u001b[0;32m     28\u001b[0m \u001b[0mprint\u001b[0m\u001b[1;33m(\u001b[0m\u001b[0mbook1\u001b[0m\u001b[1;33m.\u001b[0m\u001b[0mgetTypeInfo\u001b[0m\u001b[1;33m(\u001b[0m\u001b[1;33m)\u001b[0m\u001b[1;33m)\u001b[0m\u001b[1;33m\u001b[0m\u001b[1;33m\u001b[0m\u001b[0m\n",
      "\u001b[1;31mTypeError\u001b[0m: getAuthorInfo() takes 0 positional arguments but 1 was given"
     ]
    }
   ],
   "source": [
    "# 9-6\n",
    "class Book:\n",
    "    def __init__(self, author, publish):\n",
    "      self.author = author\n",
    "      self.publish = publish\n",
    "        \n",
    "    def getAuthorInfo():\n",
    "      string = '저자:%s'% self.author\n",
    "      return string\n",
    "    \n",
    "    def getPublishInfo():\n",
    "      string = '출판사:%s'% self.publish\n",
    "      return string \n",
    "    \n",
    "class Ebook(Book):\n",
    "    def __init__(self, author, publish, type):\n",
    "      super().__init__(author, publish)\n",
    "      self.type = type\n",
    "     \n",
    "    def getTypeInfo():\n",
    "      string = '유형:%s'% self.type\n",
    "      return string\n",
    "    \n",
    "book1 = Ebook('홍길동','지구출판사','PDF')\n",
    "\n",
    "print(book1.getAuthorInfo())\n",
    "print(book1.getPublishInfo())\n",
    "print(book1.getTypeInfo())\n",
    "\n",
    "# supet(). 가 없어서"
   ]
  },
  {
   "cell_type": "code",
   "execution_count": 7,
   "metadata": {},
   "outputs": [
    {
     "name": "stdout",
     "output_type": "stream",
     "text": [
      "저자:홍길동\n",
      "출판사:지구출판사\n",
      "유형:PDF\n"
     ]
    }
   ],
   "source": [
    "class Book:\n",
    "    def __init__(self, author, publish):\n",
    "        self.author = author\n",
    "        self.publish = publish\n",
    "    \n",
    "    def getAuthourInfo(self):\n",
    "        string = '저자:%s'%self.author\n",
    "        return string\n",
    "    \n",
    "    def getPublishInfo(self):\n",
    "        string = '출판사:%s'%self.publish\n",
    "        return string\n",
    "    \n",
    "class Ebook(Book):\n",
    "    def __init__(self, author, publish, type):\n",
    "        #__init__(author, publish)\n",
    "        super().__init__(author, publish)\n",
    "        self.type = type\n",
    "    \n",
    "    def getTypeInfo(self):\n",
    "        string = '유형:%s'%self.type\n",
    "        return string\n",
    "    \n",
    "book1 = Ebook('홍길동', '지구출판사', 'PDF')\n",
    "\n",
    "print(book1.getAuthourInfo())\n",
    "print(book1.getPublishInfo())\n",
    "print(book1.getTypeInfo())"
   ]
  },
  {
   "cell_type": "code",
   "execution_count": null,
   "metadata": {},
   "outputs": [],
   "source": []
  }
 ],
 "metadata": {
  "kernelspec": {
   "display_name": "Python 3",
   "language": "python",
   "name": "python3"
  },
  "language_info": {
   "codemirror_mode": {
    "name": "ipython",
    "version": 3
   },
   "file_extension": ".py",
   "mimetype": "text/x-python",
   "name": "python",
   "nbconvert_exporter": "python",
   "pygments_lexer": "ipython3",
   "version": "3.7.6"
  }
 },
 "nbformat": 4,
 "nbformat_minor": 4
}
