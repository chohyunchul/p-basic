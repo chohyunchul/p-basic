{
 "cells": [
  {
   "cell_type": "code",
   "execution_count": 1,
   "metadata": {},
   "outputs": [],
   "source": [
    "import pandas as pd"
   ]
  },
  {
   "cell_type": "code",
   "execution_count": null,
   "metadata": {},
   "outputs": [],
   "source": [
    "import matplotlib as mpl\n",
    "import matplotlib.pyplot as plt\n",
    "# 화면에 그래프 그리기\n",
    "%matplotlib inline\n",
    "# Korean Setting , Minus 표시\n",
    "mpl.rcParams['axes.unicode_minus'] = False\n",
    "# family = 폰트 이름 size = 사이즈 크기\n",
    "mpl.rc('font', family='D2Coding', size=25)\n",
    "# Graph 크기 변경\n",
    "plt.rcParams[\"figure.figsize\"]= (15,9)"
   ]
  }
 ],
 "metadata": {
  "kernelspec": {
   "display_name": "Python 3",
   "language": "python",
   "name": "python3"
  },
  "language_info": {
   "codemirror_mode": {
    "name": "ipython",
    "version": 3
   },
   "file_extension": ".py",
   "mimetype": "text/x-python",
   "name": "python",
   "nbconvert_exporter": "python",
   "pygments_lexer": "ipython3",
   "version": "3.7.6"
  }
 },
 "nbformat": 4,
 "nbformat_minor": 4
}
