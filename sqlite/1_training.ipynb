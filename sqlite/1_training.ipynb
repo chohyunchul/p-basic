{
 "cells": [
  {
   "cell_type": "markdown",
   "metadata": {},
   "source": [
    "# SQLite3 훈련"
   ]
  },
  {
   "cell_type": "code",
   "execution_count": 1,
   "metadata": {},
   "outputs": [],
   "source": [
    "import sqlite3    "
   ]
  },
  {
   "cell_type": "code",
   "execution_count": 2,
   "metadata": {},
   "outputs": [],
   "source": [
    "conn = sqlite3.connect('test.db')    # sqlite3 파일 불러오기"
   ]
  },
  {
   "cell_type": "code",
   "execution_count": 23,
   "metadata": {},
   "outputs": [],
   "source": [
    "cur = conn.cursor()                  # 객체 생성\n",
    "cur.execute(\"SELECT * FROM eagles\")  # 실행문 입력\n",
    "rows = cur.fetchall()                # 데이터 가져오기"
   ]
  },
  {
   "cell_type": "code",
   "execution_count": 24,
   "metadata": {},
   "outputs": [
    {
     "data": {
      "text/plain": [
       "[(1, 22, '이태양', '투수'),\n",
       " (3, 13, '최재훈', '포수'),\n",
       " (4, 3, '노태형', '내야수'),\n",
       " (5, 19, '이용규', '외야수'),\n",
       " (9, 4, '조한민', '내야수'),\n",
       " (10, 6, '오선진', '내야수'),\n",
       " (11, 7, '송광민', '내야수'),\n",
       " (12, 8, '노시환', '내야수'),\n",
       " (13, 9, '이동훈', '외야수'),\n",
       " (14, 10, '장은호', '외야수'),\n",
       " (15, 1, '신정락', '투수'),\n",
       " (16, 5, '윤대경', '투수'),\n",
       " (17, 57, '정우람', '투수'),\n",
       " (18, 38, '안영명', '투수'),\n",
       " (20, 2, '하주석', '내야수'),\n",
       " (21, 2, '하주석', '내야수'),\n",
       " (22, 25, '최진행', '외야수')]"
      ]
     },
     "execution_count": 24,
     "metadata": {},
     "output_type": "execute_result"
    }
   ],
   "source": [
    "rows"
   ]
  },
  {
   "cell_type": "code",
   "execution_count": 5,
   "metadata": {},
   "outputs": [
    {
     "name": "stdout",
     "output_type": "stream",
     "text": [
      "(1, 22, '이태양', '투수')\n",
      "(15, 1, '신정락', '투수')\n",
      "(16, 5, '윤대경', '투수')\n",
      "(17, 57, '정우람', '투수')\n",
      "(18, 38, '안영명', '투수')\n"
     ]
    }
   ],
   "source": [
    "cur.execute(\"SELECT * FROM eagles WHERE position='투수'\")\n",
    "pitchers = cur.fetchall()\n",
    "for pitcher in pitchers:\n",
    "    print(pitcher)"
   ]
  },
  {
   "cell_type": "markdown",
   "metadata": {},
   "source": [
    "## 데이터 추가"
   ]
  },
  {
   "cell_type": "code",
   "execution_count": 16,
   "metadata": {},
   "outputs": [
    {
     "data": {
      "text/plain": [
       "<sqlite3.Cursor at 0x1e5c3677960>"
      ]
     },
     "execution_count": 16,
     "metadata": {},
     "output_type": "execute_result"
    }
   ],
   "source": [
    "cur.execute(\"INSERT INTO eagles(back_no, name, position) VALUES(2, '하주석','내야수')\")"
   ]
  },
  {
   "cell_type": "code",
   "execution_count": 20,
   "metadata": {},
   "outputs": [
    {
     "name": "stdout",
     "output_type": "stream",
     "text": [
      "(4, 3, '노태형', '내야수')\n",
      "(9, 4, '조한민', '내야수')\n",
      "(10, 6, '오선진', '내야수')\n",
      "(11, 7, '송광민', '내야수')\n",
      "(12, 8, '노시환', '내야수')\n",
      "(20, 2, '하주석', '내야수')\n",
      "(21, 2, '하주석', '내야수')\n"
     ]
    }
   ],
   "source": [
    "cur.execute(\"SELECT * FROM eagles WHERE position='내야수'\")   # 내야수 db만 볼수 있음\n",
    "pitchers = cur.fetchall()\n",
    "for pitcher in pitchers:\n",
    "    print(pitcher)"
   ]
  },
  {
   "cell_type": "code",
   "execution_count": 18,
   "metadata": {},
   "outputs": [],
   "source": [
    "# DB에 반영\n",
    "conn.commit()        # db에 반영할 수 있음"
   ]
  },
  {
   "cell_type": "code",
   "execution_count": 22,
   "metadata": {},
   "outputs": [],
   "source": [
    "# 파라메터 : 튜플을 사용해서 전달  # 프로그램 사용방법\n",
    "back_no = 25\n",
    "name = '최진행'\n",
    "position = '외야수'\n",
    "sql = 'INSERT INTO eagles(back_no, name, position) VALUES(?, ?, ?)'\n",
    "cur.execute(sql, (back_no, name, position))\n",
    "conn.commit()"
   ]
  },
  {
   "cell_type": "code",
   "execution_count": 25,
   "metadata": {},
   "outputs": [],
   "source": [
    "# 튜플 리스트 사용 # 프로그램 사용방법 ****************************\n",
    "players = [(38, '안영명', '투수'), (54, '서균', '투수')]\n",
    "for player in players:\n",
    "    cur.execute(sql, player)\n",
    "conn.commit()"
   ]
  },
  {
   "cell_type": "code",
   "execution_count": 26,
   "metadata": {},
   "outputs": [],
   "source": [
    "# exeutemany() 사용 # 프로그램 사용방법\n",
    "players = [(48, '벨', '투수'), (53, '김민우', '투수')]\n",
    "cur.executemany(sql, players)\n",
    "conn.commit()"
   ]
  },
  {
   "cell_type": "markdown",
   "metadata": {},
   "source": [
    "## 데이터 조회"
   ]
  },
  {
   "cell_type": "code",
   "execution_count": 27,
   "metadata": {},
   "outputs": [
    {
     "name": "stdout",
     "output_type": "stream",
     "text": [
      "(3, 13, '최재훈', '포수')\n"
     ]
    }
   ],
   "source": [
    "# 순회 조회\n",
    "sql = \" select * from eagles where position = '포수'\"\n",
    "cur.execute(sql)\n",
    "for result in cur:\n",
    "    print(result)"
   ]
  },
  {
   "cell_type": "code",
   "execution_count": 28,
   "metadata": {},
   "outputs": [
    {
     "name": "stdout",
     "output_type": "stream",
     "text": [
      "(3, 13, '최재훈', '포수')\n"
     ]
    }
   ],
   "source": [
    "# 한 건 조회 *********************************************\n",
    "cur.execute(sql)\n",
    "result = cur.fetchone()\n",
    "print(result)"
   ]
  },
  {
   "cell_type": "code",
   "execution_count": 29,
   "metadata": {},
   "outputs": [
    {
     "name": "stdout",
     "output_type": "stream",
     "text": [
      "None\n"
     ]
    }
   ],
   "source": [
    "# 한번더 하면 다음 데이터를 한건만 조회한다.\n",
    "result = cur.fetchone()    \n",
    "print(result)"
   ]
  },
  {
   "cell_type": "code",
   "execution_count": 30,
   "metadata": {},
   "outputs": [
    {
     "data": {
      "text/plain": [
       "[(1, 22, '이태양', '투수'), (15, 1, '신정락', '투수'), (16, 5, '윤대경', '투수')]"
      ]
     },
     "execution_count": 30,
     "metadata": {},
     "output_type": "execute_result"
    }
   ],
   "source": [
    "# 갯수 지정 조회\n",
    "sql = \" select * from eagles where position = '투수'\"\n",
    "cur.execute(sql)\n",
    "results = cur.fetchmany(3)\n",
    "results"
   ]
  },
  {
   "cell_type": "code",
   "execution_count": 34,
   "metadata": {},
   "outputs": [
    {
     "data": {
      "text/plain": [
       "[(4, 3, '노태형', '내야수'),\n",
       " (9, 4, '조한민', '내야수'),\n",
       " (10, 6, '오선진', '내야수'),\n",
       " (11, 7, '송광민', '내야수'),\n",
       " (12, 8, '노시환', '내야수'),\n",
       " (21, 2, '하주석', '내야수')]"
      ]
     },
     "execution_count": 34,
     "metadata": {},
     "output_type": "execute_result"
    }
   ],
   "source": [
    "# 전부 조회 ********************************************\n",
    "sql = \" select * from eagles where position = '내야수'\"\n",
    "cur.execute(sql)\n",
    "results = cur.fetchall()\n",
    "results"
   ]
  },
  {
   "cell_type": "code",
   "execution_count": 36,
   "metadata": {},
   "outputs": [
    {
     "data": {
      "text/plain": [
       "[(22, '이태양'),\n",
       " (57, '정우람'),\n",
       " (38, '안영명'),\n",
       " (25, '최진행'),\n",
       " (38, '안영명'),\n",
       " (54, '서균'),\n",
       " (48, '벨'),\n",
       " (53, '김민우')]"
      ]
     },
     "execution_count": 36,
     "metadata": {},
     "output_type": "execute_result"
    }
   ],
   "source": [
    "# 필요한 컬럼만 조회        # 20번 이상 선수들만 조회\n",
    "sql = \" select back_no, name from eagles where back_no > 20\"\n",
    "cur.execute(sql)\n",
    "results = cur.fetchall()\n",
    "results"
   ]
  },
  {
   "cell_type": "code",
   "execution_count": 39,
   "metadata": {},
   "outputs": [
    {
     "data": {
      "text/plain": [
       "[(1, 22, '이태양', '투수'), (22, 25, '최진행', '외야수')]"
      ]
     },
     "execution_count": 39,
     "metadata": {},
     "output_type": "execute_result"
    }
   ],
   "source": [
    "# 백넘버가 20 ~ 29까지인 선수\n",
    "sql = \" select * from eagles where back_no between 20 and 29\"\n",
    "cur.execute(sql)\n",
    "results = cur.fetchall()\n",
    "results"
   ]
  },
  {
   "cell_type": "code",
   "execution_count": 41,
   "metadata": {},
   "outputs": [
    {
     "data": {
      "text/plain": [
       "(17, 57, '정우람', '투수')"
      ]
     },
     "execution_count": 41,
     "metadata": {},
     "output_type": "execute_result"
    }
   ],
   "source": [
    "# 백넘버가 가장 큰 번호를 갖는 선수는?\n",
    "sql = \" select * from eagles order by back_no desc limit 1\"\n",
    "cur.execute(sql)\n",
    "result = cur.fetchone()\n",
    "result"
   ]
  },
  {
   "cell_type": "code",
   "execution_count": 44,
   "metadata": {},
   "outputs": [
    {
     "data": {
      "text/plain": [
       "[('내야수', 6), ('외야수', 4), ('투수', 9), ('포수', 1)]"
      ]
     },
     "execution_count": 44,
     "metadata": {},
     "output_type": "execute_result"
    }
   ],
   "source": [
    "# 포지션별 사람수\n",
    "sql = \"select position, count(*) from eagles group by position\"\n",
    "cur.execute(sql)\n",
    "results = cur.fetchall()\n",
    "results"
   ]
  },
  {
   "cell_type": "markdown",
   "metadata": {},
   "source": [
    "## 데이터 검색"
   ]
  },
  {
   "cell_type": "code",
   "execution_count": 45,
   "metadata": {},
   "outputs": [
    {
     "ename": "ValueError",
     "evalue": "parameters are of unsupported type",
     "output_type": "error",
     "traceback": [
      "\u001b[1;31m---------------------------------------------------------------------------\u001b[0m",
      "\u001b[1;31mValueError\u001b[0m                                Traceback (most recent call last)",
      "\u001b[1;32m<ipython-input-45-01767f508c18>\u001b[0m in \u001b[0;36m<module>\u001b[1;34m\u001b[0m\n\u001b[0;32m      2\u001b[0m \u001b[0mback_no\u001b[0m \u001b[1;33m=\u001b[0m \u001b[1;36m57\u001b[0m\u001b[1;33m\u001b[0m\u001b[1;33m\u001b[0m\u001b[0m\n\u001b[0;32m      3\u001b[0m \u001b[0msql\u001b[0m \u001b[1;33m=\u001b[0m \u001b[1;34m\"select * from eagles where back_no =?\"\u001b[0m\u001b[1;33m\u001b[0m\u001b[1;33m\u001b[0m\u001b[0m\n\u001b[1;32m----> 4\u001b[1;33m \u001b[0mcur\u001b[0m\u001b[1;33m.\u001b[0m\u001b[0mexecute\u001b[0m\u001b[1;33m(\u001b[0m\u001b[0msql\u001b[0m\u001b[1;33m,\u001b[0m \u001b[0mback_no\u001b[0m\u001b[1;33m)\u001b[0m\u001b[1;33m\u001b[0m\u001b[1;33m\u001b[0m\u001b[0m\n\u001b[0m\u001b[0;32m      5\u001b[0m \u001b[0mresult\u001b[0m \u001b[1;33m=\u001b[0m \u001b[0mcur\u001b[0m\u001b[1;33m.\u001b[0m\u001b[0mfetchone\u001b[0m\u001b[1;33m(\u001b[0m\u001b[1;33m)\u001b[0m\u001b[1;33m\u001b[0m\u001b[1;33m\u001b[0m\u001b[0m\n\u001b[0;32m      6\u001b[0m \u001b[0mresult\u001b[0m\u001b[1;33m\u001b[0m\u001b[1;33m\u001b[0m\u001b[0m\n",
      "\u001b[1;31mValueError\u001b[0m: parameters are of unsupported type"
     ]
    }
   ],
   "source": [
    "# back_no 가 57번인 선수는?\n",
    "back_no = 57 \n",
    "sql = \"select * from eagles where back_no =?\"\n",
    "cur.execute(sql, back_no)\n",
    "result = cur.fetchone()\n",
    "result"
   ]
  },
  {
   "cell_type": "code",
   "execution_count": 46,
   "metadata": {},
   "outputs": [
    {
     "data": {
      "text/plain": [
       "(17, 57, '정우람', '투수')"
      ]
     },
     "execution_count": 46,
     "metadata": {},
     "output_type": "execute_result"
    }
   ],
   "source": [
    "cur.execute(sql, (back_no,))\n",
    "result = cur.fetchone()\n",
    "result"
   ]
  },
  {
   "cell_type": "markdown",
   "metadata": {},
   "source": [
    "## 데이터 변경"
   ]
  },
  {
   "cell_type": "code",
   "execution_count": 50,
   "metadata": {},
   "outputs": [],
   "source": [
    "# id 21인 하주석 선수의 표지션을 외야수로 변경\n",
    "id_ = 21\n",
    "position ='외야수'\n",
    "sql = \"UPDATE eagles SET position =  ? WHERE id = ?\"\n",
    "cur.execute(sql, (position, id))\n",
    "conn.commit()"
   ]
  },
  {
   "cell_type": "code",
   "execution_count": 52,
   "metadata": {},
   "outputs": [],
   "source": [
    "## 데이터 삭제\n",
    "sql = \"DELETE FROM eagles WHERE id = ?\"\n",
    "cur.execute(sql, (id_,))\n",
    "conn.commit()"
   ]
  },
  {
   "cell_type": "code",
   "execution_count": null,
   "metadata": {},
   "outputs": [],
   "source": []
  }
 ],
 "metadata": {
  "kernelspec": {
   "display_name": "Python 3",
   "language": "python",
   "name": "python3"
  },
  "language_info": {
   "codemirror_mode": {
    "name": "ipython",
    "version": 3
   },
   "file_extension": ".py",
   "mimetype": "text/x-python",
   "name": "python",
   "nbconvert_exporter": "python",
   "pygments_lexer": "ipython3",
   "version": "3.7.6"
  }
 },
 "nbformat": 4,
 "nbformat_minor": 4
}
