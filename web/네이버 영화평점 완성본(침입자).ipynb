{
 "cells": [
  {
   "cell_type": "code",
   "execution_count": 1,
   "metadata": {},
   "outputs": [],
   "source": [
    "from bs4 import BeautifulSoup \n",
    "from urllib.request import urlopen"
   ]
  },
  {
   "cell_type": "code",
   "execution_count": 2,
   "metadata": {},
   "outputs": [],
   "source": [
    "url_base = 'https://movie.naver.com'\n",
    "url_sub = '/movie/bi/mi/point.nhn?code=182835'\n",
    "html = urlopen(url_base + url_sub)\n",
    "soup = BeautifulSoup(html, 'html.parser')"
   ]
  },
  {
   "cell_type": "code",
   "execution_count": 3,
   "metadata": {},
   "outputs": [
    {
     "data": {
      "text/plain": [
       "'/movie/bi/mi/pointWriteFormList.nhn?code=182835&type=after&isActualPointWriteExecute=false&isMileageSubscriptionAlready=false&isMileageSubscriptionReject=false'"
      ]
     },
     "execution_count": 3,
     "metadata": {},
     "output_type": "execute_result"
    }
   ],
   "source": [
    "ifr_url = soup.find('iframe')['src']\n",
    "ifr_url"
   ]
  },
  {
   "cell_type": "code",
   "execution_count": 4,
   "metadata": {},
   "outputs": [],
   "source": [
    "url = url_base + ifr_url\n",
    "html = urlopen(url)\n",
    "soup = BeautifulSoup(html, 'html.parser')"
   ]
  },
  {
   "cell_type": "markdown",
   "metadata": {},
   "source": [
    "# 읽을 페이지 수 계산"
   ]
  },
  {
   "cell_type": "code",
   "execution_count": 5,
   "metadata": {},
   "outputs": [
    {
     "data": {
      "text/plain": [
       "<strong class=\"total\">관람객 평점 <em>1,856</em>건<button class=\"btn_review\" id=\"open-form-btn\">내 평점 등록</button></strong>"
      ]
     },
     "execution_count": 5,
     "metadata": {},
     "output_type": "execute_result"
    }
   ],
   "source": [
    "count = soup.find('strong', 'total')\n",
    "count"
   ]
  },
  {
   "cell_type": "code",
   "execution_count": 6,
   "metadata": {},
   "outputs": [
    {
     "data": {
      "text/plain": [
       "'1,856'"
      ]
     },
     "execution_count": 6,
     "metadata": {},
     "output_type": "execute_result"
    }
   ],
   "source": [
    "count = count.find('em').string     # get_text() 대신에 string\n",
    "count"
   ]
  },
  {
   "cell_type": "code",
   "execution_count": 7,
   "metadata": {},
   "outputs": [
    {
     "data": {
      "text/plain": [
       "1856"
      ]
     },
     "execution_count": 7,
     "metadata": {},
     "output_type": "execute_result"
    }
   ],
   "source": [
    "count = int(count.replace(',',''))\n",
    "count"
   ]
  },
  {
   "cell_type": "code",
   "execution_count": 8,
   "metadata": {},
   "outputs": [
    {
     "data": {
      "text/plain": [
       "186"
      ]
     },
     "execution_count": 8,
     "metadata": {},
     "output_type": "execute_result"
    }
   ],
   "source": [
    "import math\n",
    "total_page = math.ceil(count/10)\n",
    "total_page"
   ]
  },
  {
   "cell_type": "code",
   "execution_count": 9,
   "metadata": {},
   "outputs": [
    {
     "name": "stdout",
     "output_type": "stream",
     "text": [
      "1 2 3 4 5 6 7 8 9 10 11 12 13 14 15 16 17 18 19 20 21 22 23 24 25 26 27 28 29 30 31 32 33 34 35 36 37 38 39 40 41 42 43 44 45 46 47 48 49 50 51 52 53 54 55 56 57 58 59 60 61 62 63 64 65 66 67 68 69 70 71 72 73 74 75 76 77 78 79 80 81 82 83 84 85 86 87 88 89 90 91 92 93 94 95 96 97 98 99 100 101 102 103 104 105 106 107 108 109 110 111 112 113 114 115 116 117 118 119 120 121 122 123 124 125 126 127 128 129 130 131 132 133 134 135 136 137 138 139 140 141 142 143 144 145 146 147 148 149 150 151 152 153 154 155 156 157 158 159 160 161 162 163 164 165 166 167 168 169 170 171 172 173 174 175 176 177 178 179 180 181 182 183 184 185 186 "
     ]
    }
   ],
   "source": [
    "point = []\n",
    "review = []\n",
    "date = []\n",
    "for page in range(1, total_page+1):\n",
    "    print(page, end=' ')\n",
    "    url = url_base + ifr_url + '&page=' + str(page)\n",
    "    html = urlopen(url)\n",
    "    soup = BeautifulSoup(html, 'html.parser')\n",
    "    result = soup.find(class_='score_result')\n",
    "    lis = result.find_all('li')\n",
    "    for li in lis:\n",
    "        score = li.find(class_='star_score').find('em').get_text()\n",
    "        score = int(score)\n",
    "        point.append(score)\n",
    "        count_span = len(li.find(class_='score_reple').find(class_='').find_all('span'))\n",
    "        count_icon = len(li.find_all(class_='ico_viewer'))\n",
    "        count_spo = len(li.find_all(class_='text_spo'))\n",
    "        criteria = str(count_span) + str(count_icon) + str(count_spo)\n",
    "        #print(criteria)\n",
    "        if criteria == '100':\n",
    "            r = li.find(class_='score_reple').find('span').string.strip(' \\t\\r\\n')\n",
    "        elif criteria == '200':\n",
    "            r = li.find(class_='score_reple').find('a')['data-src']\n",
    "        elif criteria == '210':\n",
    "            r = li.find(class_='score_reple').find_all('span')[1].string.strip(' \\t\\r\\n')\n",
    "        elif criteria == '310':\n",
    "            r = li.find(class_='score_reple').find('a')['data-src']\n",
    "        elif criteria == '311':\n",
    "            r = li.find(class_='score_reple').find_all('span')[2].string.strip(' \\t\\r\\n')\n",
    "        elif criteria == '201':\n",
    "            r = li.find(class_='score_reple').find_all('span')[1].string.strip(' \\t\\r\\n')\n",
    "\n",
    "        review.append(r)\n",
    "        date.append(li.find(class_='score_reple').find_all('em')[1].get_text())"
   ]
  },
  {
   "cell_type": "code",
   "execution_count": 13,
   "metadata": {},
   "outputs": [
    {
     "data": {
      "text/html": [
       "<div>\n",
       "<style scoped>\n",
       "    .dataframe tbody tr th:only-of-type {\n",
       "        vertical-align: middle;\n",
       "    }\n",
       "\n",
       "    .dataframe tbody tr th {\n",
       "        vertical-align: top;\n",
       "    }\n",
       "\n",
       "    .dataframe thead th {\n",
       "        text-align: right;\n",
       "    }\n",
       "</style>\n",
       "<table border=\"1\" class=\"dataframe\">\n",
       "  <thead>\n",
       "    <tr style=\"text-align: right;\">\n",
       "      <th></th>\n",
       "      <th>평점</th>\n",
       "      <th>일시</th>\n",
       "      <th>감상평</th>\n",
       "    </tr>\n",
       "  </thead>\n",
       "  <tbody>\n",
       "    <tr>\n",
       "      <th>0</th>\n",
       "      <td>2</td>\n",
       "      <td>2020.06.06 13:00</td>\n",
       "      <td>이상한데... 평점이 좋네. 왜지. 내가 이상한 사람인가</td>\n",
       "    </tr>\n",
       "    <tr>\n",
       "      <th>1</th>\n",
       "      <td>10</td>\n",
       "      <td>2020.06.04 12:49</td>\n",
       "      <td>오랜만에 극장에서 영화봐서 그런지 몰입감이 좋았습니다 송지효 목소리가 이렇게 소름돋...</td>\n",
       "    </tr>\n",
       "    <tr>\n",
       "      <th>2</th>\n",
       "      <td>6</td>\n",
       "      <td>2020.06.04 13:26</td>\n",
       "      <td>초중반까지는 긴장감 좋고, 흥미롭다.그 후 텐션이 떨어지며 전개가 뻔해짐. 러닝타임...</td>\n",
       "    </tr>\n",
       "    <tr>\n",
       "      <th>3</th>\n",
       "      <td>10</td>\n",
       "      <td>2020.06.04 11:53</td>\n",
       "      <td>송지효가 스릴러 연기를 이렇게 잘하는구나 느껴짐 .. 특유의 중저음 목소리랑 분위기...</td>\n",
       "    </tr>\n",
       "    <tr>\n",
       "      <th>4</th>\n",
       "      <td>10</td>\n",
       "      <td>2020.06.04 09:26</td>\n",
       "      <td>이거 진짜 재밌음 송지효랑 김무열 캐스팅 대박이다.</td>\n",
       "    </tr>\n",
       "    <tr>\n",
       "      <th>...</th>\n",
       "      <td>...</td>\n",
       "      <td>...</td>\n",
       "      <td>...</td>\n",
       "    </tr>\n",
       "    <tr>\n",
       "      <th>1851</th>\n",
       "      <td>10</td>\n",
       "      <td>2020.06.04 15:14</td>\n",
       "      <td>스포:송지효 죽음 ㅋㅋㅋㅋ</td>\n",
       "    </tr>\n",
       "    <tr>\n",
       "      <th>1852</th>\n",
       "      <td>4</td>\n",
       "      <td>2020.06.04 10:39</td>\n",
       "      <td>평식이형 5점이다 얘들아 댓글알바 알아서 잘거르고 요즘 개봉한 영화가 없어서 볼게 ...</td>\n",
       "    </tr>\n",
       "    <tr>\n",
       "      <th>1853</th>\n",
       "      <td>2</td>\n",
       "      <td>2020.06.04 09:50</td>\n",
       "      <td>9:22분에 조조 봤다는건 너무 알바 아니냐 ㅋㅋㅋ</td>\n",
       "    </tr>\n",
       "    <tr>\n",
       "      <th>1854</th>\n",
       "      <td>4</td>\n",
       "      <td>2020.06.04 14:42</td>\n",
       "      <td>런닝맨 송지효가 스릴러 영화의 주인공으로 나오는데 몰입이 될까? 저번에는 나혼자산다...</td>\n",
       "    </tr>\n",
       "    <tr>\n",
       "      <th>1855</th>\n",
       "      <td>5</td>\n",
       "      <td>2020.06.04 09:29</td>\n",
       "      <td>우한폐렴보다 덜 무섭고 덜 긴장된다.</td>\n",
       "    </tr>\n",
       "  </tbody>\n",
       "</table>\n",
       "<p>1856 rows × 3 columns</p>\n",
       "</div>"
      ],
      "text/plain": [
       "      평점                일시                                                감상평\n",
       "0      2  2020.06.06 13:00                    이상한데... 평점이 좋네. 왜지. 내가 이상한 사람인가\n",
       "1     10  2020.06.04 12:49  오랜만에 극장에서 영화봐서 그런지 몰입감이 좋았습니다 송지효 목소리가 이렇게 소름돋...\n",
       "2      6  2020.06.04 13:26  초중반까지는 긴장감 좋고, 흥미롭다.그 후 텐션이 떨어지며 전개가 뻔해짐. 러닝타임...\n",
       "3     10  2020.06.04 11:53  송지효가 스릴러 연기를 이렇게 잘하는구나 느껴짐 .. 특유의 중저음 목소리랑 분위기...\n",
       "4     10  2020.06.04 09:26                       이거 진짜 재밌음 송지효랑 김무열 캐스팅 대박이다.\n",
       "...   ..               ...                                                ...\n",
       "1851  10  2020.06.04 15:14                                     스포:송지효 죽음 ㅋㅋㅋㅋ\n",
       "1852   4  2020.06.04 10:39  평식이형 5점이다 얘들아 댓글알바 알아서 잘거르고 요즘 개봉한 영화가 없어서 볼게 ...\n",
       "1853   2  2020.06.04 09:50                       9:22분에 조조 봤다는건 너무 알바 아니냐 ㅋㅋㅋ\n",
       "1854   4  2020.06.04 14:42  런닝맨 송지효가 스릴러 영화의 주인공으로 나오는데 몰입이 될까? 저번에는 나혼자산다...\n",
       "1855   5  2020.06.04 09:29                               우한폐렴보다 덜 무섭고 덜 긴장된다.\n",
       "\n",
       "[1856 rows x 3 columns]"
      ]
     },
     "execution_count": 13,
     "metadata": {},
     "output_type": "execute_result"
    }
   ],
   "source": [
    "import pandas as pd\n",
    "df = pd.DataFrame({'평점':point, '일시':date, '감상평':review})\n",
    "df"
   ]
  },
  {
   "cell_type": "code",
   "execution_count": 14,
   "metadata": {},
   "outputs": [],
   "source": [
    "df.to_csv('data/intruder, 2019.csv')"
   ]
  },
  {
   "cell_type": "code",
   "execution_count": 15,
   "metadata": {},
   "outputs": [
    {
     "data": {
      "text/plain": [
       "1856"
      ]
     },
     "execution_count": 15,
     "metadata": {},
     "output_type": "execute_result"
    }
   ],
   "source": [
    "len(df)"
   ]
  },
  {
   "cell_type": "code",
   "execution_count": null,
   "metadata": {},
   "outputs": [],
   "source": []
  }
 ],
 "metadata": {
  "kernelspec": {
   "display_name": "Python 3",
   "language": "python",
   "name": "python3"
  },
  "language_info": {
   "codemirror_mode": {
    "name": "ipython",
    "version": 3
   },
   "file_extension": ".py",
   "mimetype": "text/x-python",
   "name": "python",
   "nbconvert_exporter": "python",
   "pygments_lexer": "ipython3",
   "version": "3.7.6"
  }
 },
 "nbformat": 4,
 "nbformat_minor": 4
}
