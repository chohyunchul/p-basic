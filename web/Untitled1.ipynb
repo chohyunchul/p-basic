{
 "cells": [
  {
   "cell_type": "code",
   "execution_count": 1,
   "metadata": {},
   "outputs": [],
   "source": [
    "from bs4 import BeautifulSoup\n",
    "from urllib.request import urlopen"
   ]
  },
  {
   "cell_type": "code",
   "execution_count": 2,
   "metadata": {},
   "outputs": [],
   "source": [
    "url = 'https://www.menupan.com/search/restaurant/restaurant_result.asp?sc=basicdata&kw=%C0%AF%BC%BA+%BA%C0%B8%ED%B5%BF'\n",
    "page = urlopen(url)\n",
    "\n",
    "soup = BeautifulSoup(page, 'html.parser')"
   ]
  },
  {
   "cell_type": "code",
   "execution_count": 3,
   "metadata": {},
   "outputs": [
    {
     "data": {
      "text/plain": [
       "[<ul class=\"listStyle3\">\n",
       " <li>\n",
       " <div class=\"imgDiv\">\n",
       " <a href=\"/Restaurant/Onepage.asp?acode=H302167\" target=\"_blank\"><img class=\"thumb\" height=\"70px\" src=\"/restaurant/restimg/007/ssimg/h302167a_s.jpg\" width=\"70px\"/></a><span class=\"btn\"><img alt=\"더보기\" onmouseout=\"imgmore('H302167_imgview',0);\" onmouseover=\"imgmore('H302167_imgview',1);\" src=\"/IMAGE/Search/ico_plus.gif\" style=\"cursor:hand\"/></span>\n",
       " </div>\n",
       " <dl>\n",
       " <dt>\n",
       " <!--[4].rankscore=2 , rest_value=1-->\n",
       " <a href=\"/Restaurant/Onepage.asp?acode=H302167\" target=\"_blank\">임진강장어</a></dt>\n",
       " <dd class=\"sum3\"><span class=\"part\">한식&gt;몸보신 |</span>한방장어소금구이(1판), 산더덕장어구이(1인분), 간장양념구이(1인분)</dd>\n",
       " <dd class=\"sum\">대전 유성구 봉명동 666-2 | 042-825-9200 | 추천맛집 10개</dd>\n",
       " </dl>\n",
       " </li>\n",
       " <li>\n",
       " <div class=\"imgDiv\">\n",
       " <a href=\"/Restaurant/Onepage.asp?acode=E300270\" target=\"_blank\"><img class=\"thumb\" height=\"70px\" src=\"/restaurant/restimg/000/ssimg/e300270a_s.jpg\" width=\"70px\"/></a><span class=\"btn\"><img alt=\"더보기\" onmouseout=\"imgmore('E300270_imgview',0);\" onmouseover=\"imgmore('E300270_imgview',1);\" src=\"/IMAGE/Search/ico_plus.gif\" style=\"cursor:hand\"/></span>\n",
       " </div>\n",
       " <dl>\n",
       " <dt>\n",
       " <!--[1].rankscore=11 , rest_value=0-->\n",
       " <a href=\"/Restaurant/Onepage.asp?acode=E300270\" target=\"_blank\">제이부페</a></dt>\n",
       " <dd class=\"sum3\"><span class=\"part\">일반뷔페 |</span>평일점심 (대인), 평일저녁 (대인), 주말 (대인)</dd>\n",
       " <dd class=\"sum\">대전 유성구 봉명동 469-46 유성 자이아파트 상가 3층 | 042-824-8833 | 추천맛집 0개</dd>\n",
       " </dl>\n",
       " </li>\n",
       " <li>\n",
       " <div class=\"imgDiv\">\n",
       " <a href=\"/Restaurant/Onepage.asp?acode=H302371\" target=\"_blank\"><img class=\"thumb\" height=\"70px\" src=\"/restaurant/restimg/001/ssimg/h302371a_s.jpg\" width=\"70px\"/></a><span class=\"btn\"><img alt=\"더보기\" onmouseout=\"imgmore('H302371_imgview',0);\" onmouseover=\"imgmore('H302371_imgview',1);\" src=\"/IMAGE/Search/ico_plus.gif\" style=\"cursor:hand\"/></span>\n",
       " </div>\n",
       " <dl>\n",
       " <dt>\n",
       " <!--[2].rankscore=6 , rest_value=0-->\n",
       " <a href=\"/Restaurant/Onepage.asp?acode=H302371\" target=\"_blank\">무창포막회</a></dt>\n",
       " <dd class=\"sum3\"><span class=\"part\">한식&gt;해물요리 |</span>해물찜(생물)小, 우럭광어(1kg), 쭈꾸미볶음小</dd>\n",
       " <dd class=\"sum\">대전 유성구 봉명동 468-11 | 042-825-7743 | 추천맛집 0개</dd>\n",
       " </dl>\n",
       " </li>\n",
       " <li>\n",
       " <div class=\"imgDiv\">\n",
       " <a href=\"/Restaurant/Onepage.asp?acode=H302234\" target=\"_blank\"><img class=\"thumb\" height=\"70px\" src=\"/restaurant/restimg/004/ssimg/h302234a_s.jpg\" width=\"70px\"/></a><span class=\"btn\"><img alt=\"더보기\" onmouseout=\"imgmore('H302234_imgview',0);\" onmouseover=\"imgmore('H302234_imgview',1);\" src=\"/IMAGE/Search/ico_plus.gif\" style=\"cursor:hand\"/></span>\n",
       " </div>\n",
       " <dl>\n",
       " <dt>\n",
       " <!--[3].rankscore=5 , rest_value=0-->\n",
       " <a href=\"/Restaurant/Onepage.asp?acode=H302234\" target=\"_blank\">크래버대게나라 대전점</a></dt>\n",
       " <dd class=\"sum3\"><span class=\"part\">한식 |</span>대게장비빔밥, 대게, 킹크랩</dd>\n",
       " <dd class=\"sum\">대전 유성구 봉명동 615-1 | 042-822-6022 | 추천맛집 11개</dd>\n",
       " </dl>\n",
       " </li>\n",
       " <li>\n",
       " <div class=\"imgDiv\">\n",
       " <a href=\"/Restaurant/Onepage.asp?acode=D300970\" target=\"_blank\"><img class=\"thumb\" height=\"70px\" src=\"/restaurant/restimg/000/ssimg/d300970a_s.jpg\" width=\"70px\"/></a><span class=\"btn\"><img alt=\"더보기\" onmouseout=\"imgmore('D300970_imgview',0);\" onmouseover=\"imgmore('D300970_imgview',1);\" src=\"/IMAGE/Search/ico_plus.gif\" style=\"cursor:hand\"/></span>\n",
       " </div>\n",
       " <dl>\n",
       " <dt>\n",
       " <!--[0].rankscore=16 , rest_value=0-->\n",
       " <a href=\"/Restaurant/Onepage.asp?acode=D300970\" target=\"_blank\">호텔리베라유성 카페엘루스</a></dt>\n",
       " <dd class=\"sum3\"><span class=\"part\">카페/주점 |</span>카페카푸치노, 카페비엔나, 카라멜 마끼아또</dd>\n",
       " <dd class=\"sum\">대전 유성구 봉명동 444-5 | 042-828-4034 | 추천맛집 0개</dd>\n",
       " </dl>\n",
       " </li>\n",
       " <li>\n",
       " <div class=\"imgDiv\">\n",
       " <a href=\"/Restaurant/Onepage.asp?acode=H302373\" target=\"_blank\"><img class=\"thumb\" height=\"70px\" src=\"/restaurant/restimg/003/ssimg/h302373a_s.jpg\" width=\"70px\"/></a><span class=\"btn\"><img alt=\"더보기\" onmouseout=\"imgmore('H302373_imgview',0);\" onmouseover=\"imgmore('H302373_imgview',1);\" src=\"/IMAGE/Search/ico_plus.gif\" style=\"cursor:hand\"/></span>\n",
       " </div>\n",
       " <dl>\n",
       " <dt>\n",
       " <!--[5].rankscore=1 , rest_value=0-->\n",
       " <a href=\"/Restaurant/Onepage.asp?acode=H302373\" target=\"_blank\">썸데이</a></dt>\n",
       " <dd class=\"sum3\"><span class=\"part\">한식&gt;삼겹살 |</span>제주 흑돼지 생구이, 제주 돼지 갈비, 제주 흑돼지 목살</dd>\n",
       " <dd class=\"sum\">대전 유성구 봉명동 640-1 | 042-825-9431 | 추천맛집 0개</dd>\n",
       " </dl>\n",
       " </li>\n",
       " </ul>]"
      ]
     },
     "execution_count": 3,
     "metadata": {},
     "output_type": "execute_result"
    }
   ],
   "source": [
    "rest_list = soup.find_all(class_='listStyle3')\n",
    "rest_list"
   ]
  },
  {
   "cell_type": "code",
   "execution_count": 4,
   "metadata": {},
   "outputs": [
    {
     "data": {
      "text/plain": [
       "1"
      ]
     },
     "execution_count": 4,
     "metadata": {},
     "output_type": "execute_result"
    }
   ],
   "source": [
    "len(rest_list)"
   ]
  },
  {
   "cell_type": "code",
   "execution_count": null,
   "metadata": {},
   "outputs": [],
   "source": []
  }
 ],
 "metadata": {
  "kernelspec": {
   "display_name": "Python 3",
   "language": "python",
   "name": "python3"
  },
  "language_info": {
   "codemirror_mode": {
    "name": "ipython",
    "version": 3
   },
   "file_extension": ".py",
   "mimetype": "text/x-python",
   "name": "python",
   "nbconvert_exporter": "python",
   "pygments_lexer": "ipython3",
   "version": "3.7.6"
  }
 },
 "nbformat": 4,
 "nbformat_minor": 4
}
