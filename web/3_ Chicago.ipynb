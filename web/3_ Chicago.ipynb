{
 "cells": [
  {
   "cell_type": "markdown",
   "metadata": {},
   "source": [
    "## 1. 시카고 샌드위치 맛집 사이트에 접근하기"
   ]
  },
  {
   "cell_type": "code",
   "execution_count": 1,
   "metadata": {},
   "outputs": [],
   "source": [
    "from bs4 import BeautifulSoup\n",
    "from urllib.request import urlopen"
   ]
  },
  {
   "cell_type": "code",
   "execution_count": 2,
   "metadata": {},
   "outputs": [],
   "source": [
    "url_base = 'http://www.chicagomag.com'\n",
    "url_sub = '/Chicago-Magazine/November-2012/Best-Sandwiches-Chicago/'\n",
    "url = url_base + url_sub\n",
    "\n",
    "html = urlopen(url)\n",
    "soup = BeautifulSoup(html, 'html.parser')"
   ]
  },
  {
   "cell_type": "code",
   "execution_count": 3,
   "metadata": {},
   "outputs": [
    {
     "data": {
      "text/plain": [
       "<div class=\"sammy\" style=\"position: relative;\">\n",
       "<div class=\"sammyRank\">1</div>\n",
       "<div class=\"sammyListing\"><a href=\"/Chicago-Magazine/November-2012/Best-Sandwiches-in-Chicago-Old-Oak-Tap-BLT/\"><b>BLT</b><br>\n",
       "Old Oak Tap<br>\n",
       "<em>Read more</em> </br></br></a></div>\n",
       "</div>"
      ]
     },
     "execution_count": 3,
     "metadata": {},
     "output_type": "execute_result"
    }
   ],
   "source": [
    "rest_list = soup.find_all(class_='sammy')\n",
    "rest_list[0]"
   ]
  },
  {
   "cell_type": "code",
   "execution_count": 4,
   "metadata": {},
   "outputs": [
    {
     "data": {
      "text/plain": [
       "50"
      ]
     },
     "execution_count": 4,
     "metadata": {},
     "output_type": "execute_result"
    }
   ],
   "source": [
    "len(rest_list)"
   ]
  },
  {
   "cell_type": "markdown",
   "metadata": {},
   "source": [
    "## 2. 접근한 웹 페이지에서 원하는 데이터 추출하고 정리하기"
   ]
  },
  {
   "cell_type": "code",
   "execution_count": 5,
   "metadata": {},
   "outputs": [],
   "source": [
    "tmp_one = rest_list[0]"
   ]
  },
  {
   "cell_type": "code",
   "execution_count": 6,
   "metadata": {},
   "outputs": [
    {
     "data": {
      "text/plain": [
       "<div class=\"sammyRank\">1</div>"
      ]
     },
     "execution_count": 6,
     "metadata": {},
     "output_type": "execute_result"
    }
   ],
   "source": [
    "tmp_one.find(class_='sammyRank')"
   ]
  },
  {
   "cell_type": "code",
   "execution_count": 7,
   "metadata": {},
   "outputs": [
    {
     "data": {
      "text/plain": [
       "'1'"
      ]
     },
     "execution_count": 7,
     "metadata": {},
     "output_type": "execute_result"
    }
   ],
   "source": [
    "tmp_one.find(class_='sammyRank').get_text()"
   ]
  },
  {
   "cell_type": "code",
   "execution_count": 8,
   "metadata": {},
   "outputs": [
    {
     "data": {
      "text/plain": [
       "'BLT\\r\\nOld Oak Tap\\nRead more '"
      ]
     },
     "execution_count": 8,
     "metadata": {},
     "output_type": "execute_result"
    }
   ],
   "source": [
    "tmp_one.find(class_='sammyListing').get_text()"
   ]
  },
  {
   "cell_type": "code",
   "execution_count": 9,
   "metadata": {},
   "outputs": [
    {
     "data": {
      "text/plain": [
       "'/Chicago-Magazine/November-2012/Best-Sandwiches-in-Chicago-Old-Oak-Tap-BLT/'"
      ]
     },
     "execution_count": 9,
     "metadata": {},
     "output_type": "execute_result"
    }
   ],
   "source": [
    "tmp_one.find('a')['href']    # 주소찾기"
   ]
  },
  {
   "cell_type": "code",
   "execution_count": 10,
   "metadata": {},
   "outputs": [
    {
     "data": {
      "text/plain": [
       "['BLT\\r', 'Old Oak Tap', 'Read more ']"
      ]
     },
     "execution_count": 10,
     "metadata": {},
     "output_type": "execute_result"
    }
   ],
   "source": [
    "tmp_str = tmp_one.find(class_='sammyListing').get_text()\n",
    "tmp_str.split('\\n')"
   ]
  },
  {
   "cell_type": "code",
   "execution_count": 11,
   "metadata": {},
   "outputs": [
    {
     "data": {
      "text/plain": [
       "'BLT'"
      ]
     },
     "execution_count": 11,
     "metadata": {},
     "output_type": "execute_result"
    }
   ],
   "source": [
    "tmp_res = tmp_str.split('\\n')\n",
    "menu = tmp_res[0].replace('\\r','')\n",
    "menu"
   ]
  },
  {
   "cell_type": "code",
   "execution_count": 12,
   "metadata": {},
   "outputs": [
    {
     "data": {
      "text/plain": [
       "'Old Oak Tap'"
      ]
     },
     "execution_count": 12,
     "metadata": {},
     "output_type": "execute_result"
    }
   ],
   "source": [
    "cafe = tmp_res[1]\n",
    "cafe"
   ]
  },
  {
   "cell_type": "code",
   "execution_count": 13,
   "metadata": {},
   "outputs": [],
   "source": [
    "# Regular Expression\n",
    "import re "
   ]
  },
  {
   "cell_type": "raw",
   "metadata": {},
   "source": [
    "re.split(('\\n|\\r\\n'), tmp_str)"
   ]
  },
  {
   "cell_type": "code",
   "execution_count": 14,
   "metadata": {},
   "outputs": [
    {
     "name": "stdout",
     "output_type": "stream",
     "text": [
      "BLT\n",
      "Old Oak Tap\n"
     ]
    }
   ],
   "source": [
    "print(re.split(('\\n|\\r\\n'), tmp_str)[0])\n",
    "print(re.split(('\\n|\\r\\n'), tmp_str)[1])"
   ]
  },
  {
   "cell_type": "code",
   "execution_count": 15,
   "metadata": {},
   "outputs": [],
   "source": [
    "from urllib.parse import urljoin"
   ]
  },
  {
   "cell_type": "code",
   "execution_count": 16,
   "metadata": {},
   "outputs": [],
   "source": [
    "# 데이터 프레임 만들기 전에 항목 데이터 구하기\n",
    "rank = []\n",
    "main_menu = []\n",
    "cafe_name = []\n",
    "url_add = []\n",
    "\n",
    "for rest in rest_list:\n",
    "    rank.append(int(rest.find(class_='sammyRank').get_text()))\n",
    "    tmp_str = rest.find(class_='sammyListing').get_text()\n",
    "    main_menu.append(re.split(('\\n|\\r\\n'), tmp_str)[0])\n",
    "    cafe_name.append(re.split(('\\n|\\r\\n'), tmp_str)[1])\n",
    "    url_add.append(urljoin(url_base, rest.find('a')['href']))"
   ]
  },
  {
   "cell_type": "code",
   "execution_count": 17,
   "metadata": {},
   "outputs": [
    {
     "data": {
      "text/plain": [
       "[1, 2, 3, 4, 5]"
      ]
     },
     "execution_count": 17,
     "metadata": {},
     "output_type": "execute_result"
    }
   ],
   "source": [
    "rank[:5]"
   ]
  },
  {
   "cell_type": "code",
   "execution_count": 18,
   "metadata": {},
   "outputs": [
    {
     "data": {
      "text/plain": [
       "['BLT', 'Fried Bologna', 'Woodland Mushroom', 'Roast Beef', 'PB&L']"
      ]
     },
     "execution_count": 18,
     "metadata": {},
     "output_type": "execute_result"
    }
   ],
   "source": [
    "main_menu[:5]"
   ]
  },
  {
   "cell_type": "code",
   "execution_count": 19,
   "metadata": {},
   "outputs": [
    {
     "data": {
      "text/plain": [
       "['Old Oak Tap', 'Au Cheval', 'Xoco', 'Al’s Deli', 'Publican Quality Meats']"
      ]
     },
     "execution_count": 19,
     "metadata": {},
     "output_type": "execute_result"
    }
   ],
   "source": [
    "cafe_name[:5]"
   ]
  },
  {
   "cell_type": "code",
   "execution_count": 20,
   "metadata": {},
   "outputs": [
    {
     "data": {
      "text/plain": [
       "['http://www.chicagomag.com/Chicago-Magazine/November-2012/Best-Sandwiches-in-Chicago-Chickpea-Kufta/',\n",
       " 'http://www.chicagomag.com/Chicago-Magazine/November-2012/Best-Sandwiches-in-Chicago-The-Goddess-and-Grocer-Debbies-Egg-Salad/',\n",
       " 'http://www.chicagomag.com/Chicago-Magazine/November-2012/Best-Sandwiches-in-Chicago-Zenwich-Beef-Curry/',\n",
       " 'http://www.chicagomag.com/Chicago-Magazine/November-2012/Best-Sandwiches-in-Chicago-Toni-Patisserie-Le-Vegetarien/',\n",
       " 'http://www.chicagomag.com/Chicago-Magazine/November-2012/Best-Sandwiches-in-Chicago-Phoebes-Bakery-The-Gatsby/']"
      ]
     },
     "execution_count": 20,
     "metadata": {},
     "output_type": "execute_result"
    }
   ],
   "source": [
    "url_add[-5:]"
   ]
  },
  {
   "cell_type": "code",
   "execution_count": 21,
   "metadata": {
    "scrolled": true
   },
   "outputs": [
    {
     "data": {
      "text/html": [
       "<div>\n",
       "<style scoped>\n",
       "    .dataframe tbody tr th:only-of-type {\n",
       "        vertical-align: middle;\n",
       "    }\n",
       "\n",
       "    .dataframe tbody tr th {\n",
       "        vertical-align: top;\n",
       "    }\n",
       "\n",
       "    .dataframe thead th {\n",
       "        text-align: right;\n",
       "    }\n",
       "</style>\n",
       "<table border=\"1\" class=\"dataframe\">\n",
       "  <thead>\n",
       "    <tr style=\"text-align: right;\">\n",
       "      <th></th>\n",
       "      <th>rank</th>\n",
       "      <th>cafe</th>\n",
       "      <th>menu</th>\n",
       "      <th>URL</th>\n",
       "    </tr>\n",
       "  </thead>\n",
       "  <tbody>\n",
       "    <tr>\n",
       "      <th>0</th>\n",
       "      <td>1</td>\n",
       "      <td>Old Oak Tap</td>\n",
       "      <td>BLT</td>\n",
       "      <td>http://www.chicagomag.com/Chicago-Magazine/Nov...</td>\n",
       "    </tr>\n",
       "    <tr>\n",
       "      <th>1</th>\n",
       "      <td>2</td>\n",
       "      <td>Au Cheval</td>\n",
       "      <td>Fried Bologna</td>\n",
       "      <td>http://www.chicagomag.com/Chicago-Magazine/Nov...</td>\n",
       "    </tr>\n",
       "    <tr>\n",
       "      <th>2</th>\n",
       "      <td>3</td>\n",
       "      <td>Xoco</td>\n",
       "      <td>Woodland Mushroom</td>\n",
       "      <td>http://www.chicagomag.com/Chicago-Magazine/Nov...</td>\n",
       "    </tr>\n",
       "    <tr>\n",
       "      <th>3</th>\n",
       "      <td>4</td>\n",
       "      <td>Al’s Deli</td>\n",
       "      <td>Roast Beef</td>\n",
       "      <td>http://www.chicagomag.com/Chicago-Magazine/Nov...</td>\n",
       "    </tr>\n",
       "    <tr>\n",
       "      <th>4</th>\n",
       "      <td>5</td>\n",
       "      <td>Publican Quality Meats</td>\n",
       "      <td>PB&amp;L</td>\n",
       "      <td>http://www.chicagomag.com/Chicago-Magazine/Nov...</td>\n",
       "    </tr>\n",
       "  </tbody>\n",
       "</table>\n",
       "</div>"
      ],
      "text/plain": [
       "   rank                    cafe               menu  \\\n",
       "0     1             Old Oak Tap                BLT   \n",
       "1     2               Au Cheval      Fried Bologna   \n",
       "2     3                    Xoco  Woodland Mushroom   \n",
       "3     4               Al’s Deli         Roast Beef   \n",
       "4     5  Publican Quality Meats               PB&L   \n",
       "\n",
       "                                                 URL  \n",
       "0  http://www.chicagomag.com/Chicago-Magazine/Nov...  \n",
       "1  http://www.chicagomag.com/Chicago-Magazine/Nov...  \n",
       "2  http://www.chicagomag.com/Chicago-Magazine/Nov...  \n",
       "3  http://www.chicagomag.com/Chicago-Magazine/Nov...  \n",
       "4  http://www.chicagomag.com/Chicago-Magazine/Nov...  "
      ]
     },
     "execution_count": 21,
     "metadata": {},
     "output_type": "execute_result"
    }
   ],
   "source": [
    "# 데이터 프레임으로 만들기\n",
    "import pandas as pd\n",
    "df = pd.DataFrame({'rank' : rank, 'cafe' : cafe_name,'menu' : main_menu, 'URL': url_add })\n",
    "df.head()"
   ]
  },
  {
   "cell_type": "code",
   "execution_count": 22,
   "metadata": {
    "scrolled": true
   },
   "outputs": [
    {
     "data": {
      "text/plain": [
       "['http://www.chicagomag.com/Chicago-Magazine/November-2012/Best-Sandwiches-in-Chicago-Old-Oak-Tap-BLT/',\n",
       " 'http://www.chicagomag.com/Chicago-Magazine/November-2012/Best-Sandwiches-in-Chicago-Au-Cheval-Fried-Bologna/',\n",
       " 'http://www.chicagomag.com/Chicago-Magazine/November-2012/Best-Sandwiches-in-Chicago-Xoco-Woodland-Mushroom/',\n",
       " 'http://www.chicagomag.com/Chicago-Magazine/November-2012/Best-Sandwiches-in-Chicago-Als-Deli-Roast-Beef/',\n",
       " 'http://www.chicagomag.com/Chicago-Magazine/November-2012/Best-Sandwiches-in-Chicago-Publican-Quality-Meats-PB-L/',\n",
       " 'http://www.chicagomag.com/Chicago-Magazine/November-2012/Best-Sandwiches-in-Chicago-Hendrickx-Belgian-Bread-Crafter-Belgian-Chicken-Curry-Salad/',\n",
       " 'http://www.chicagomag.com/Chicago-Magazine/November-2012/Best-Sandwiches-in-Chicago-Acadia-Lobster-Roll/',\n",
       " 'http://www.chicagomag.com/Chicago-Magazine/November-2012/Best-Sandwiches-in-Chicago-Birchwood-Kitchen-Smoked-Salmon-Salad/',\n",
       " 'http://www.chicagomag.com/Chicago-Magazine/November-2012/Best-Sandwiches-in-Chicago-Cemitas-Puebla-Atomica-Cemitas/',\n",
       " 'http://www.chicagomag.com/Chicago-Magazine/November-2012/Best-Sandwiches-in-Chicago-Nana-Grilled-Laughing-Bird-Shrimp-and-Fried-Oyster-Po-Boy/',\n",
       " 'http://www.chicagomag.com/Chicago-Magazine/November-2012/Best-Sandwiches-in-Chicago-Lula-Cafe-Ham-and-Raclette-Panino/',\n",
       " 'http://www.chicagomag.com/Chicago-Magazine/November-2012/Best-Sandwiches-in-Chicago-Ricobenes-Breaded-Steak/',\n",
       " 'http://www.chicagomag.com/Chicago-Magazine/November-2012/Best-Sandwiches-in-Chicago-Frog-n-Snail-The-Hawkeye/',\n",
       " 'http://www.chicagomag.com/Chicago-Magazine/November-2012/Best-Sandwiches-in-Chicago-Crosbys-Kitchen-Chicken-Dip/',\n",
       " 'http://www.chicagomag.com/Chicago-Magazine/November-2012/Best-Sandwiches-in-Chicago-Longman-and-Eagle-Wild-Boar-Sloppy-Joe/',\n",
       " 'http://www.chicagomag.com/Chicago-Magazine/November-2012/Best-Sandwiches-in-Chicago-Bari-Meatball-Sub/',\n",
       " 'http://www.chicagomag.com/Chicago-Magazine/November-2012/Best-Sandwiches-in-Chicago-Mannys-Corned-Beef/',\n",
       " 'http://www.chicagomag.com/Chicago-Magazine/November-2012/Best-Sandwiches-in-Chicago-Eggys-Turkey-Club/',\n",
       " 'http://www.chicagomag.com/Chicago-Magazine/November-2012/Best-Sandwiches-in-Chicago-Old-Jerusalem-Falafel/',\n",
       " 'http://www.chicagomag.com/Chicago-Magazine/November-2012/Best-Sandwiches-in-Chicago-Mindys-HotChocolate-Crab-Cake/',\n",
       " 'http://www.chicagomag.com/Chicago-Magazine/November-2012/Best-Sandwiches-in-Chicago-Olgas-Delicatessen-Chicken-Schnitzel/',\n",
       " 'http://www.chicagomag.com/Chicago-Magazine/November-2012/Best-Sandwiches-in-Chicago-Dawali-Mediterranean-Kitchen-Shawarma/',\n",
       " 'http://www.chicagomag.com/Chicago-Magazine/November-2012/Best-Sandwiches-in-Chicago-Big-Jones-Toasted-Pimiento-Cheese/',\n",
       " 'http://www.chicagomag.com/Chicago-Magazine/November-2012/Best-Sandwiches-in-Chicago-La-Pane-Vegetarian-Panino/',\n",
       " 'http://www.chicagomag.com/Chicago-Magazine/November-2012/Best-Sandwiches-in-Chicago-Pastoral-Cali-Chevre/',\n",
       " 'http://www.chicagomag.com/Chicago-Magazine/November-2012/Best-Sandwiches-in-Chicago-Maxs-Deli-Pastrami/',\n",
       " 'http://www.chicagomag.com/Chicago-Magazine/November-2012/Best-Sandwiches-in-Chicago-Luckys-Sandwich-Co-The-Fredo/',\n",
       " 'http://www.chicagomag.com/Chicago-Magazine/November-2012/Best-Sandwiches-in-Chicago-City-Provisions-Smoked-Ham/',\n",
       " 'http://www.chicagomag.com/Chicago-Magazine/November-2012/Best-Sandwiches-in-Chicago-Papas-Cache-Sabroso-Jibarito/',\n",
       " 'http://www.chicagomag.com/Chicago-Magazine/November-2012/Best-Sandwiches-in-Chicago-Bavettes-Bar-and-Boeuf-Shaved-Prime-Rib/',\n",
       " 'http://www.chicagomag.com/Chicago-Magazine/November-2012/Best-Sandwiches-in-Chicago-Hannahs-Bretzel-Serrano-Ham-and-Manchego-Cheese/',\n",
       " 'http://www.chicagomag.com/Chicago-Magazine/November-2012/Best-Sandwiches-in-Chicago-La-Fournette-Tuna-Salad/',\n",
       " 'http://www.chicagomag.com/Chicago-Magazine/November-2012/Best-Sandwiches-in-Chicago-Paramount-Room-Paramount-Reuben/',\n",
       " 'http://www.chicagomag.com/Chicago-Magazine/November-2012/Best-Sandwiches-in-Chicago-Melt-Sandwich-Shoppe-The-Istanbul/',\n",
       " 'http://www.chicagomag.com/Chicago-Magazine/November-2012/Best-Sandwiches-in-Chicago-Floriole-Cafe-and-Bakery-BAD/',\n",
       " 'http://www.chicagomag.com/Chicago-Magazine/November-2012/Best-Sandwiches-in-Chicago-First-Slice-Pie-Cafe-Duck-Confit-and-Mozzarella/',\n",
       " 'http://www.chicagomag.com/Chicago-Magazine/November-2012/Best-Sandwiches-in-Chicago-Troquet-Croque-Monsieur/',\n",
       " 'http://www.chicagomag.com/Chicago-Magazine/November-2012/Best-Sandwiches-in-Chicago-Grahamwich-Green-Garbanzo/',\n",
       " 'http://www.chicagomag.com/Chicago-Magazine/November-2012/Best-Sandwiches-in-Chicago-Saigon-Sisters-The-Hen-House/',\n",
       " 'http://www.chicagomag.com/Chicago-Magazine/November-2012/Best-Sandwiches-in-Chicago-Rosalias-Deli-Tuscan-Chicken/',\n",
       " 'http://www.chicagomag.com/Chicago-Magazine/November-2012/Best-Sandwiches-in-Chicago-Z-and-H-MarketCafe-The-Marty/',\n",
       " 'http://www.chicagomag.com/Chicago-Magazine/November-2012/Best-Sandwiches-in-Chicago-Market-House-on-the-Square-Whitefish/',\n",
       " 'http://www.chicagomag.com/Chicago-Magazine/November-2012/Best-Sandwiches-in-Chicago-Elaines-Coffee-Call-Oat-Bread-Pecan-Butter-and-Fruit-Jam/',\n",
       " 'http://www.chicagomag.com/Chicago-Magazine/November-2012/Best-Sandwiches-in-Chicago-Marion-Street-Cheese-Market-Cauliflower-Melt/',\n",
       " 'http://www.chicagomag.com/Chicago-Magazine/November-2012/Best-Sandwiches-in-Chicago-Cafecito-Cubano/',\n",
       " 'http://www.chicagomag.com/Chicago-Magazine/November-2012/Best-Sandwiches-in-Chicago-Chickpea-Kufta/',\n",
       " 'http://www.chicagomag.com/Chicago-Magazine/November-2012/Best-Sandwiches-in-Chicago-The-Goddess-and-Grocer-Debbies-Egg-Salad/',\n",
       " 'http://www.chicagomag.com/Chicago-Magazine/November-2012/Best-Sandwiches-in-Chicago-Zenwich-Beef-Curry/',\n",
       " 'http://www.chicagomag.com/Chicago-Magazine/November-2012/Best-Sandwiches-in-Chicago-Toni-Patisserie-Le-Vegetarien/',\n",
       " 'http://www.chicagomag.com/Chicago-Magazine/November-2012/Best-Sandwiches-in-Chicago-Phoebes-Bakery-The-Gatsby/']"
      ]
     },
     "execution_count": 22,
     "metadata": {},
     "output_type": "execute_result"
    }
   ],
   "source": [
    "url_add"
   ]
  },
  {
   "cell_type": "code",
   "execution_count": 23,
   "metadata": {},
   "outputs": [],
   "source": [
    "df.to_csv('chicago1.csv', sep=',', encoding='UTF-8')   # csv 저장방법"
   ]
  },
  {
   "cell_type": "markdown",
   "metadata": {},
   "source": [
    "## 3. 다수의 웹 페이지에 자동으로 접근해서 원하는 정보 가져오기"
   ]
  },
  {
   "cell_type": "code",
   "execution_count": 24,
   "metadata": {},
   "outputs": [
    {
     "data": {
      "text/plain": [
       "'http://www.chicagomag.com/Chicago-Magazine/November-2012/Best-Sandwiches-in-Chicago-Old-Oak-Tap-BLT/'"
      ]
     },
     "execution_count": 24,
     "metadata": {},
     "output_type": "execute_result"
    }
   ],
   "source": [
    "df['URL'][0]"
   ]
  },
  {
   "cell_type": "code",
   "execution_count": 25,
   "metadata": {},
   "outputs": [],
   "source": [
    "html = urlopen(df['URL'][0])\n",
    "soup_tmp = BeautifulSoup(html, 'html.parser')\n",
    "#soup_tmp"
   ]
  },
  {
   "cell_type": "code",
   "execution_count": 26,
   "metadata": {},
   "outputs": [
    {
     "data": {
      "text/plain": [
       "<p class=\"addy\">\n",
       "<em>$10. 2109 W. Chicago Ave., 773-772-0406, <a href=\"http://www.theoldoaktap.com/\">theoldoaktap.com</a></em></p>"
      ]
     },
     "execution_count": 26,
     "metadata": {},
     "output_type": "execute_result"
    }
   ],
   "source": [
    "soup_tmp.find(class_='addy')"
   ]
  },
  {
   "cell_type": "code",
   "execution_count": 27,
   "metadata": {},
   "outputs": [
    {
     "data": {
      "text/plain": [
       "'\\n$10. 2109 W. Chicago Ave., 773-772-0406, theoldoaktap.com'"
      ]
     },
     "execution_count": 27,
     "metadata": {},
     "output_type": "execute_result"
    }
   ],
   "source": [
    "tmp_str = soup_tmp.find(class_='addy').get_text()\n",
    "tmp_str"
   ]
  },
  {
   "cell_type": "code",
   "execution_count": 28,
   "metadata": {},
   "outputs": [
    {
     "data": {
      "text/plain": [
       "['$10.', '2109', 'W.', 'Chicago', 'Ave.,', '773-772-0406,', 'theoldoaktap.com']"
      ]
     },
     "execution_count": 28,
     "metadata": {},
     "output_type": "execute_result"
    }
   ],
   "source": [
    "tmp_str.split()"
   ]
  },
  {
   "cell_type": "code",
   "execution_count": 29,
   "metadata": {},
   "outputs": [
    {
     "data": {
      "text/plain": [
       "'$10'"
      ]
     },
     "execution_count": 29,
     "metadata": {},
     "output_type": "execute_result"
    }
   ],
   "source": [
    "tmp_price = tmp_str.split()[0][:-1]  # 뒤에 점 제거 \n",
    "tmp_price"
   ]
  },
  {
   "cell_type": "code",
   "execution_count": 30,
   "metadata": {},
   "outputs": [
    {
     "data": {
      "text/plain": [
       "['2109', 'W.', 'Chicago', 'Ave.,']"
      ]
     },
     "execution_count": 30,
     "metadata": {},
     "output_type": "execute_result"
    }
   ],
   "source": [
    "tmp_str.split()[1:-2]"
   ]
  },
  {
   "cell_type": "code",
   "execution_count": 31,
   "metadata": {},
   "outputs": [
    {
     "data": {
      "text/plain": [
       "'2109 W. Chicago Ave.,'"
      ]
     },
     "execution_count": 31,
     "metadata": {},
     "output_type": "execute_result"
    }
   ],
   "source": [
    "' '.join(tmp_str.split()[1:-2])  # ''join 한칸씩 뛰어서 표현해라"
   ]
  },
  {
   "cell_type": "code",
   "execution_count": 32,
   "metadata": {},
   "outputs": [
    {
     "data": {
      "text/plain": [
       "'2109 W. Chicago Ave.'"
      ]
     },
     "execution_count": 32,
     "metadata": {},
     "output_type": "execute_result"
    }
   ],
   "source": [
    "tmp_addr = ' '.join(tmp_str.split()[1:-2])[:-1]  # [:-1] 뒤에 점 제거\n",
    "tmp_addr"
   ]
  },
  {
   "cell_type": "markdown",
   "metadata": {},
   "source": [
    "### 상태 진행바 적용"
   ]
  },
  {
   "cell_type": "code",
   "execution_count": 33,
   "metadata": {},
   "outputs": [],
   "source": [
    "from tqdm import tqdm_notebook\n",
    "import time"
   ]
  },
  {
   "cell_type": "code",
   "execution_count": 34,
   "metadata": {},
   "outputs": [
    {
     "name": "stderr",
     "output_type": "stream",
     "text": [
      "C:\\ProgramData\\Anaconda3\\lib\\site-packages\\ipykernel_launcher.py:3: TqdmDeprecationWarning: This function will be removed in tqdm==5.0.0\n",
      "Please use `tqdm.notebook.tqdm` instead of `tqdm.tqdm_notebook`\n",
      "  This is separate from the ipykernel package so we can avoid doing imports until\n"
     ]
    },
    {
     "data": {
      "application/vnd.jupyter.widget-view+json": {
       "model_id": "0ae78777504f4dc6a5289477a6b4d6c1",
       "version_major": 2,
       "version_minor": 0
      },
      "text/plain": [
       "HBox(children=(FloatProgress(value=0.0, max=50.0), HTML(value='')))"
      ]
     },
     "metadata": {},
     "output_type": "display_data"
    },
    {
     "name": "stdout",
     "output_type": "stream",
     "text": [
      "\n"
     ]
    }
   ],
   "source": [
    "price = []\n",
    "addr = []\n",
    "for n in tqdm_notebook(df.index):\n",
    "    html = urlopen(df['URL'][n])\n",
    "    soup_tmp = BeautifulSoup(html, 'html.parser')\n",
    "    tmp_str = soup_tmp.find(class_='addy').get_text()\n",
    "    \n",
    "    price.append(tmp_str.split()[0][:-1])\n",
    "    addr.append(' '.join(tmp_str.split()[1:-2])[:-1])"
   ]
  },
  {
   "cell_type": "code",
   "execution_count": 42,
   "metadata": {},
   "outputs": [
    {
     "data": {
      "text/plain": [
       "['$10', '$9', '$9.50', '$9.40', '$10', '$7.25', '$16', '$10', '$9', '$17']"
      ]
     },
     "execution_count": 42,
     "metadata": {},
     "output_type": "execute_result"
    }
   ],
   "source": [
    "price[:10]"
   ]
  },
  {
   "cell_type": "code",
   "execution_count": 43,
   "metadata": {
    "scrolled": true
   },
   "outputs": [
    {
     "data": {
      "text/plain": [
       "['2109 W. Chicago Ave.',\n",
       " '800 W. Randolph St.',\n",
       " '445 N. Clark St.',\n",
       " '914 Noyes St., Evanston',\n",
       " '825 W. Fulton Mkt.']"
      ]
     },
     "execution_count": 43,
     "metadata": {},
     "output_type": "execute_result"
    }
   ],
   "source": [
    "addr[:5]"
   ]
  },
  {
   "cell_type": "code",
   "execution_count": 55,
   "metadata": {
    "scrolled": false
   },
   "outputs": [
    {
     "data": {
      "text/html": [
       "<div>\n",
       "<style scoped>\n",
       "    .dataframe tbody tr th:only-of-type {\n",
       "        vertical-align: middle;\n",
       "    }\n",
       "\n",
       "    .dataframe tbody tr th {\n",
       "        vertical-align: top;\n",
       "    }\n",
       "\n",
       "    .dataframe thead th {\n",
       "        text-align: right;\n",
       "    }\n",
       "</style>\n",
       "<table border=\"1\" class=\"dataframe\">\n",
       "  <thead>\n",
       "    <tr style=\"text-align: right;\">\n",
       "      <th></th>\n",
       "      <th>cafe</th>\n",
       "      <th>menu</th>\n",
       "      <th>price</th>\n",
       "      <th>address</th>\n",
       "    </tr>\n",
       "    <tr>\n",
       "      <th>rank</th>\n",
       "      <th></th>\n",
       "      <th></th>\n",
       "      <th></th>\n",
       "      <th></th>\n",
       "    </tr>\n",
       "  </thead>\n",
       "  <tbody>\n",
       "    <tr>\n",
       "      <th>1</th>\n",
       "      <td>Old Oak Tap</td>\n",
       "      <td>BLT</td>\n",
       "      <td>$10</td>\n",
       "      <td>2109 W. Chicago Ave.</td>\n",
       "    </tr>\n",
       "    <tr>\n",
       "      <th>2</th>\n",
       "      <td>Au Cheval</td>\n",
       "      <td>Fried Bologna</td>\n",
       "      <td>$9</td>\n",
       "      <td>800 W. Randolph St.</td>\n",
       "    </tr>\n",
       "    <tr>\n",
       "      <th>3</th>\n",
       "      <td>Xoco</td>\n",
       "      <td>Woodland Mushroom</td>\n",
       "      <td>$9.50</td>\n",
       "      <td>445 N. Clark St.</td>\n",
       "    </tr>\n",
       "    <tr>\n",
       "      <th>4</th>\n",
       "      <td>Al’s Deli</td>\n",
       "      <td>Roast Beef</td>\n",
       "      <td>$9.40</td>\n",
       "      <td>914 Noyes St., Evanston</td>\n",
       "    </tr>\n",
       "    <tr>\n",
       "      <th>5</th>\n",
       "      <td>Publican Quality Meats</td>\n",
       "      <td>PB&amp;L</td>\n",
       "      <td>$10</td>\n",
       "      <td>825 W. Fulton Mkt.</td>\n",
       "    </tr>\n",
       "    <tr>\n",
       "      <th>6</th>\n",
       "      <td>Hendrickx Belgian Bread Crafter</td>\n",
       "      <td>Belgian Chicken Curry Salad</td>\n",
       "      <td>$7.25</td>\n",
       "      <td>100 E. Walto</td>\n",
       "    </tr>\n",
       "    <tr>\n",
       "      <th>7</th>\n",
       "      <td>Acadia</td>\n",
       "      <td>Lobster Roll</td>\n",
       "      <td>$16</td>\n",
       "      <td>1639 S. Wabash Ave.</td>\n",
       "    </tr>\n",
       "    <tr>\n",
       "      <th>8</th>\n",
       "      <td>Birchwood Kitchen</td>\n",
       "      <td>Smoked Salmon Salad</td>\n",
       "      <td>$10</td>\n",
       "      <td>2211 W. North Ave.</td>\n",
       "    </tr>\n",
       "    <tr>\n",
       "      <th>9</th>\n",
       "      <td>Cemitas Puebla</td>\n",
       "      <td>Atomica Cemitas</td>\n",
       "      <td>$9</td>\n",
       "      <td>3619 W. North Ave.</td>\n",
       "    </tr>\n",
       "    <tr>\n",
       "      <th>10</th>\n",
       "      <td>Nana</td>\n",
       "      <td>Grilled Laughing Bird Shrimp and Fried Po’ Boy</td>\n",
       "      <td>$17</td>\n",
       "      <td>3267 S. Halsted St.</td>\n",
       "    </tr>\n",
       "    <tr>\n",
       "      <th>11</th>\n",
       "      <td>Lula Cafe</td>\n",
       "      <td>Ham and Raclette Panino</td>\n",
       "      <td>$11</td>\n",
       "      <td>2537 N. Kedzie Blvd.</td>\n",
       "    </tr>\n",
       "    <tr>\n",
       "      <th>12</th>\n",
       "      <td>Ricobene’s</td>\n",
       "      <td>Breaded Steak</td>\n",
       "      <td>$5.49</td>\n",
       "      <td>Multipl</td>\n",
       "    </tr>\n",
       "    <tr>\n",
       "      <th>13</th>\n",
       "      <td>Frog n Snail</td>\n",
       "      <td>The Hawkeye</td>\n",
       "      <td>$14</td>\n",
       "      <td>3124 N. Broadway</td>\n",
       "    </tr>\n",
       "    <tr>\n",
       "      <th>14</th>\n",
       "      <td>Crosby’s Kitchen</td>\n",
       "      <td>Chicken Dip</td>\n",
       "      <td>$10</td>\n",
       "      <td>3455 N. Southport Ave.</td>\n",
       "    </tr>\n",
       "    <tr>\n",
       "      <th>15</th>\n",
       "      <td>Longman &amp; Eagle</td>\n",
       "      <td>Wild Boar Sloppy Joe</td>\n",
       "      <td>$13</td>\n",
       "      <td>2657 N. Kedzie Ave.</td>\n",
       "    </tr>\n",
       "    <tr>\n",
       "      <th>16</th>\n",
       "      <td>Bari</td>\n",
       "      <td>Meatball Sub</td>\n",
       "      <td>$4.50</td>\n",
       "      <td>1120 W. Grand Ave.</td>\n",
       "    </tr>\n",
       "    <tr>\n",
       "      <th>17</th>\n",
       "      <td>Manny’s</td>\n",
       "      <td>Corned Beef</td>\n",
       "      <td>$11.95</td>\n",
       "      <td>1141 S. Jefferson St.</td>\n",
       "    </tr>\n",
       "    <tr>\n",
       "      <th>18</th>\n",
       "      <td>Eggy’s</td>\n",
       "      <td>Turkey Club</td>\n",
       "      <td>$11.50</td>\n",
       "      <td>333 E. Benton Pl.</td>\n",
       "    </tr>\n",
       "    <tr>\n",
       "      <th>19</th>\n",
       "      <td>Old Jerusalem</td>\n",
       "      <td>Falafel</td>\n",
       "      <td>$6.25</td>\n",
       "      <td>1411 N. Wells St.</td>\n",
       "    </tr>\n",
       "    <tr>\n",
       "      <th>20</th>\n",
       "      <td>Mindy’s HotChocolate</td>\n",
       "      <td>Crab Cake</td>\n",
       "      <td>$15</td>\n",
       "      <td>1747 N. Damen Ave.</td>\n",
       "    </tr>\n",
       "    <tr>\n",
       "      <th>21</th>\n",
       "      <td>Olga’s Delicatessen</td>\n",
       "      <td>Chicken Schnitzel</td>\n",
       "      <td>$5</td>\n",
       "      <td>3209 W. Irving Par</td>\n",
       "    </tr>\n",
       "    <tr>\n",
       "      <th>22</th>\n",
       "      <td>Dawali Mediterranean Kitchen</td>\n",
       "      <td>Shawarma</td>\n",
       "      <td>$6</td>\n",
       "      <td>Multipl</td>\n",
       "    </tr>\n",
       "    <tr>\n",
       "      <th>23</th>\n",
       "      <td>Big Jones</td>\n",
       "      <td>Toasted Pimiento Cheese</td>\n",
       "      <td>$8</td>\n",
       "      <td>5347 N. Clark St.</td>\n",
       "    </tr>\n",
       "    <tr>\n",
       "      <th>24</th>\n",
       "      <td>La Pane</td>\n",
       "      <td>Vegetarian Panino</td>\n",
       "      <td>$5.99</td>\n",
       "      <td>2954 W. Irving Park Rd.</td>\n",
       "    </tr>\n",
       "    <tr>\n",
       "      <th>25</th>\n",
       "      <td>Pastoral</td>\n",
       "      <td>Cali Chèvre</td>\n",
       "      <td>$7.52</td>\n",
       "      <td>Multipl</td>\n",
       "    </tr>\n",
       "    <tr>\n",
       "      <th>26</th>\n",
       "      <td>Max’s Deli</td>\n",
       "      <td>Pastrami</td>\n",
       "      <td>$11.95</td>\n",
       "      <td>191 Skokie Valley Rd., Highland Park</td>\n",
       "    </tr>\n",
       "    <tr>\n",
       "      <th>27</th>\n",
       "      <td>Lucky’s Sandwich Co.</td>\n",
       "      <td>The Fredo</td>\n",
       "      <td>$7.50</td>\n",
       "      <td>Multipl</td>\n",
       "    </tr>\n",
       "    <tr>\n",
       "      <th>28</th>\n",
       "      <td>City Provisions</td>\n",
       "      <td>Smoked Ham</td>\n",
       "      <td>$12.95</td>\n",
       "      <td>1818 W. Wilson Ave.</td>\n",
       "    </tr>\n",
       "    <tr>\n",
       "      <th>29</th>\n",
       "      <td>Papa’s Cache Sabroso</td>\n",
       "      <td>Jibarito</td>\n",
       "      <td>$7</td>\n",
       "      <td>2517 W. Division St.</td>\n",
       "    </tr>\n",
       "    <tr>\n",
       "      <th>30</th>\n",
       "      <td>Bavette’s Bar &amp; Boeuf</td>\n",
       "      <td>Shaved Prime Rib</td>\n",
       "      <td>$21</td>\n",
       "      <td>218 W. Kinzi</td>\n",
       "    </tr>\n",
       "    <tr>\n",
       "      <th>31</th>\n",
       "      <td>Hannah’s Bretzel</td>\n",
       "      <td>Serrano Ham and Manchego Cheese</td>\n",
       "      <td>$9.79</td>\n",
       "      <td>Multipl</td>\n",
       "    </tr>\n",
       "    <tr>\n",
       "      <th>32</th>\n",
       "      <td>La Fournette</td>\n",
       "      <td>Tuna Salad</td>\n",
       "      <td>$9.75</td>\n",
       "      <td>1547 N. Wells St.</td>\n",
       "    </tr>\n",
       "    <tr>\n",
       "      <th>33</th>\n",
       "      <td>Paramount Room</td>\n",
       "      <td>Paramount Reuben</td>\n",
       "      <td>$13</td>\n",
       "      <td>415 N. Milwaukee Ave.</td>\n",
       "    </tr>\n",
       "    <tr>\n",
       "      <th>34</th>\n",
       "      <td>Melt Sandwich Shoppe</td>\n",
       "      <td>The Istanbul</td>\n",
       "      <td>$7.95</td>\n",
       "      <td>1840 N. Damen Ave.</td>\n",
       "    </tr>\n",
       "    <tr>\n",
       "      <th>35</th>\n",
       "      <td>Floriole Cafe &amp; Bakery</td>\n",
       "      <td>B.A.D.</td>\n",
       "      <td>$9</td>\n",
       "      <td>1220 W. Webster Ave.</td>\n",
       "    </tr>\n",
       "    <tr>\n",
       "      <th>36</th>\n",
       "      <td>First Slice Pie Café</td>\n",
       "      <td>Duck Confit and Mozzarella</td>\n",
       "      <td>$9</td>\n",
       "      <td>5357 N. Ashland Ave.</td>\n",
       "    </tr>\n",
       "    <tr>\n",
       "      <th>37</th>\n",
       "      <td>Troquet</td>\n",
       "      <td>Croque Monsieur</td>\n",
       "      <td>$8</td>\n",
       "      <td>1834 W. Montrose Ave.</td>\n",
       "    </tr>\n",
       "    <tr>\n",
       "      <th>38</th>\n",
       "      <td>Grahamwich</td>\n",
       "      <td>Green Garbanzo</td>\n",
       "      <td>$8</td>\n",
       "      <td>615 N. State St.</td>\n",
       "    </tr>\n",
       "    <tr>\n",
       "      <th>39</th>\n",
       "      <td>Saigon Sisters</td>\n",
       "      <td>The Hen House</td>\n",
       "      <td>$7</td>\n",
       "      <td>Multipl</td>\n",
       "    </tr>\n",
       "    <tr>\n",
       "      <th>40</th>\n",
       "      <td>Rosalia’s Deli</td>\n",
       "      <td>Tuscan Chicken</td>\n",
       "      <td>$6</td>\n",
       "      <td>241 N. York Rd., Elmhurst</td>\n",
       "    </tr>\n",
       "    <tr>\n",
       "      <th>41</th>\n",
       "      <td>Z&amp;H MarketCafe</td>\n",
       "      <td>The Marty</td>\n",
       "      <td>$7.25</td>\n",
       "      <td>1323 E. 57th St.</td>\n",
       "    </tr>\n",
       "    <tr>\n",
       "      <th>42</th>\n",
       "      <td>Market House on the Square</td>\n",
       "      <td>Whitefish</td>\n",
       "      <td>$11</td>\n",
       "      <td>655 Forest Ave., Lake Forest</td>\n",
       "    </tr>\n",
       "    <tr>\n",
       "      <th>43</th>\n",
       "      <td>Elaine’s Coffee Call</td>\n",
       "      <td>Oat Bread, Pecan Butter, and Fruit Jam</td>\n",
       "      <td>$6</td>\n",
       "      <td>Hotel Lincoln, 1816 N. Clark St.</td>\n",
       "    </tr>\n",
       "    <tr>\n",
       "      <th>44</th>\n",
       "      <td>Marion Street Cheese Market</td>\n",
       "      <td>Cauliflower Melt</td>\n",
       "      <td>$9</td>\n",
       "      <td>100 S. Marion St., Oak Park</td>\n",
       "    </tr>\n",
       "    <tr>\n",
       "      <th>45</th>\n",
       "      <td>Cafecito</td>\n",
       "      <td>Cubana</td>\n",
       "      <td>$5.49</td>\n",
       "      <td>26 E. Congress Pkwy.</td>\n",
       "    </tr>\n",
       "    <tr>\n",
       "      <th>46</th>\n",
       "      <td>Chickpea</td>\n",
       "      <td>Kufta</td>\n",
       "      <td>$8</td>\n",
       "      <td>2018 W. Chicago Ave.</td>\n",
       "    </tr>\n",
       "    <tr>\n",
       "      <th>47</th>\n",
       "      <td>The Goddess and Grocer</td>\n",
       "      <td>Debbie’s Egg Salad</td>\n",
       "      <td>$6.50</td>\n",
       "      <td>25 E. Delaware Pl.</td>\n",
       "    </tr>\n",
       "    <tr>\n",
       "      <th>48</th>\n",
       "      <td>Zenwich</td>\n",
       "      <td>Beef Curry</td>\n",
       "      <td>$7.50</td>\n",
       "      <td>416 N. York St., Elmhurst</td>\n",
       "    </tr>\n",
       "    <tr>\n",
       "      <th>49</th>\n",
       "      <td>Toni Patisserie</td>\n",
       "      <td>Le Végétarien</td>\n",
       "      <td>$8.75</td>\n",
       "      <td>65 E. Washington St.</td>\n",
       "    </tr>\n",
       "    <tr>\n",
       "      <th>50</th>\n",
       "      <td>Phoebe’s Bakery</td>\n",
       "      <td>The Gatsby</td>\n",
       "      <td>$6.85</td>\n",
       "      <td>3351 N. Broadway</td>\n",
       "    </tr>\n",
       "  </tbody>\n",
       "</table>\n",
       "</div>"
      ],
      "text/plain": [
       "                                 cafe  \\\n",
       "rank                                    \n",
       "1                         Old Oak Tap   \n",
       "2                           Au Cheval   \n",
       "3                                Xoco   \n",
       "4                           Al’s Deli   \n",
       "5              Publican Quality Meats   \n",
       "6     Hendrickx Belgian Bread Crafter   \n",
       "7                              Acadia   \n",
       "8                   Birchwood Kitchen   \n",
       "9                      Cemitas Puebla   \n",
       "10                               Nana   \n",
       "11                          Lula Cafe   \n",
       "12                         Ricobene’s   \n",
       "13                       Frog n Snail   \n",
       "14                   Crosby’s Kitchen   \n",
       "15                    Longman & Eagle   \n",
       "16                               Bari   \n",
       "17                            Manny’s   \n",
       "18                             Eggy’s   \n",
       "19                      Old Jerusalem   \n",
       "20               Mindy’s HotChocolate   \n",
       "21                Olga’s Delicatessen   \n",
       "22       Dawali Mediterranean Kitchen   \n",
       "23                          Big Jones   \n",
       "24                            La Pane   \n",
       "25                           Pastoral   \n",
       "26                         Max’s Deli   \n",
       "27               Lucky’s Sandwich Co.   \n",
       "28                    City Provisions   \n",
       "29               Papa’s Cache Sabroso   \n",
       "30              Bavette’s Bar & Boeuf   \n",
       "31                   Hannah’s Bretzel   \n",
       "32                       La Fournette   \n",
       "33                     Paramount Room   \n",
       "34               Melt Sandwich Shoppe   \n",
       "35             Floriole Cafe & Bakery   \n",
       "36               First Slice Pie Café   \n",
       "37                            Troquet   \n",
       "38                         Grahamwich   \n",
       "39                     Saigon Sisters   \n",
       "40                     Rosalia’s Deli   \n",
       "41                     Z&H MarketCafe   \n",
       "42         Market House on the Square   \n",
       "43               Elaine’s Coffee Call   \n",
       "44        Marion Street Cheese Market   \n",
       "45                           Cafecito   \n",
       "46                           Chickpea   \n",
       "47             The Goddess and Grocer   \n",
       "48                            Zenwich   \n",
       "49                    Toni Patisserie   \n",
       "50                    Phoebe’s Bakery   \n",
       "\n",
       "                                                menu   price  \\\n",
       "rank                                                           \n",
       "1                                                BLT     $10   \n",
       "2                                      Fried Bologna      $9   \n",
       "3                                  Woodland Mushroom   $9.50   \n",
       "4                                         Roast Beef   $9.40   \n",
       "5                                               PB&L     $10   \n",
       "6                        Belgian Chicken Curry Salad   $7.25   \n",
       "7                                       Lobster Roll     $16   \n",
       "8                                Smoked Salmon Salad     $10   \n",
       "9                                    Atomica Cemitas      $9   \n",
       "10    Grilled Laughing Bird Shrimp and Fried Po’ Boy     $17   \n",
       "11                           Ham and Raclette Panino     $11   \n",
       "12                                     Breaded Steak   $5.49   \n",
       "13                                       The Hawkeye     $14   \n",
       "14                                       Chicken Dip     $10   \n",
       "15                              Wild Boar Sloppy Joe     $13   \n",
       "16                                      Meatball Sub   $4.50   \n",
       "17                                       Corned Beef  $11.95   \n",
       "18                                       Turkey Club  $11.50   \n",
       "19                                           Falafel   $6.25   \n",
       "20                                         Crab Cake     $15   \n",
       "21                                 Chicken Schnitzel      $5   \n",
       "22                                          Shawarma      $6   \n",
       "23                           Toasted Pimiento Cheese      $8   \n",
       "24                                 Vegetarian Panino   $5.99   \n",
       "25                                       Cali Chèvre   $7.52   \n",
       "26                                          Pastrami  $11.95   \n",
       "27                                         The Fredo   $7.50   \n",
       "28                                        Smoked Ham  $12.95   \n",
       "29                                          Jibarito      $7   \n",
       "30                                  Shaved Prime Rib     $21   \n",
       "31                   Serrano Ham and Manchego Cheese   $9.79   \n",
       "32                                        Tuna Salad   $9.75   \n",
       "33                                  Paramount Reuben     $13   \n",
       "34                                      The Istanbul   $7.95   \n",
       "35                                            B.A.D.      $9   \n",
       "36                        Duck Confit and Mozzarella      $9   \n",
       "37                                   Croque Monsieur      $8   \n",
       "38                                    Green Garbanzo      $8   \n",
       "39                                     The Hen House      $7   \n",
       "40                                    Tuscan Chicken      $6   \n",
       "41                                        The Marty    $7.25   \n",
       "42                                         Whitefish     $11   \n",
       "43            Oat Bread, Pecan Butter, and Fruit Jam      $6   \n",
       "44                                  Cauliflower Melt      $9   \n",
       "45                                            Cubana   $5.49   \n",
       "46                                             Kufta      $8   \n",
       "47                                Debbie’s Egg Salad   $6.50   \n",
       "48                                        Beef Curry   $7.50   \n",
       "49                                     Le Végétarien   $8.75   \n",
       "50                                        The Gatsby   $6.85   \n",
       "\n",
       "                                   address  \n",
       "rank                                        \n",
       "1                     2109 W. Chicago Ave.  \n",
       "2                      800 W. Randolph St.  \n",
       "3                         445 N. Clark St.  \n",
       "4                  914 Noyes St., Evanston  \n",
       "5                       825 W. Fulton Mkt.  \n",
       "6                             100 E. Walto  \n",
       "7                      1639 S. Wabash Ave.  \n",
       "8                       2211 W. North Ave.  \n",
       "9                       3619 W. North Ave.  \n",
       "10                     3267 S. Halsted St.  \n",
       "11                    2537 N. Kedzie Blvd.  \n",
       "12                                 Multipl  \n",
       "13                        3124 N. Broadway  \n",
       "14                  3455 N. Southport Ave.  \n",
       "15                     2657 N. Kedzie Ave.  \n",
       "16                      1120 W. Grand Ave.  \n",
       "17                   1141 S. Jefferson St.  \n",
       "18                       333 E. Benton Pl.  \n",
       "19                       1411 N. Wells St.  \n",
       "20                      1747 N. Damen Ave.  \n",
       "21                      3209 W. Irving Par  \n",
       "22                                 Multipl  \n",
       "23                       5347 N. Clark St.  \n",
       "24                 2954 W. Irving Park Rd.  \n",
       "25                                 Multipl  \n",
       "26    191 Skokie Valley Rd., Highland Park  \n",
       "27                                 Multipl  \n",
       "28                     1818 W. Wilson Ave.  \n",
       "29                    2517 W. Division St.  \n",
       "30                            218 W. Kinzi  \n",
       "31                                 Multipl  \n",
       "32                       1547 N. Wells St.  \n",
       "33                   415 N. Milwaukee Ave.  \n",
       "34                      1840 N. Damen Ave.  \n",
       "35                    1220 W. Webster Ave.  \n",
       "36                    5357 N. Ashland Ave.  \n",
       "37                   1834 W. Montrose Ave.  \n",
       "38                        615 N. State St.  \n",
       "39                                 Multipl  \n",
       "40               241 N. York Rd., Elmhurst  \n",
       "41                        1323 E. 57th St.  \n",
       "42            655 Forest Ave., Lake Forest  \n",
       "43        Hotel Lincoln, 1816 N. Clark St.  \n",
       "44             100 S. Marion St., Oak Park  \n",
       "45                    26 E. Congress Pkwy.  \n",
       "46                    2018 W. Chicago Ave.  \n",
       "47                      25 E. Delaware Pl.  \n",
       "48               416 N. York St., Elmhurst  \n",
       "49                    65 E. Washington St.  \n",
       "50                        3351 N. Broadway  "
      ]
     },
     "execution_count": 55,
     "metadata": {},
     "output_type": "execute_result"
    }
   ],
   "source": [
    "#del df['URL']\n",
    "df"
   ]
  },
  {
   "cell_type": "code",
   "execution_count": 53,
   "metadata": {},
   "outputs": [],
   "source": [
    "df.set_index(\"rank\", inplace=True)"
   ]
  },
  {
   "cell_type": "code",
   "execution_count": 57,
   "metadata": {},
   "outputs": [],
   "source": [
    "df.to_csv('chicago2.csv', sep=',', encoding='UTF-8')"
   ]
  }
 ],
 "metadata": {
  "kernelspec": {
   "display_name": "Python 3",
   "language": "python",
   "name": "python3"
  },
  "language_info": {
   "codemirror_mode": {
    "name": "ipython",
    "version": 3
   },
   "file_extension": ".py",
   "mimetype": "text/x-python",
   "name": "python",
   "nbconvert_exporter": "python",
   "pygments_lexer": "ipython3",
   "version": "3.7.6"
  }
 },
 "nbformat": 4,
 "nbformat_minor": 4
}
