{
 "cells": [
  {
   "cell_type": "code",
   "execution_count": 1,
   "metadata": {},
   "outputs": [],
   "source": [
    "# 2-1\n",
    "# (1) 숫자 : 정수형, 실수형\n",
    "# (2) 문자 : 문자, 단어 등으로 구성된 문자들의 집합을 의미하며 ' 또는 \"\"사용해야한다"
   ]
  },
  {
   "cell_type": "code",
   "execution_count": 1,
   "metadata": {},
   "outputs": [
    {
     "output_type": "stream",
     "name": "stdout",
     "text": "-72\n"
    }
   ],
   "source": [
    "# 2-2\n",
    "a=7\n",
    "b=10\n",
    "\n",
    "c=a+b*2\n",
    "c%=5\n",
    "c**=3\n",
    "c-=c*10\n",
    "\n",
    "print(c)"
   ]
  },
  {
   "cell_type": "code",
   "execution_count": 7,
   "metadata": {},
   "outputs": [
    {
     "name": "stdout",
     "output_type": "stream",
     "text": [
      "반지름을 입력하세요 : 10\n",
      "반지름 :10 cm\n",
      "원의 둘레 : 62.80 cm\n",
      "원의 면적 : 314.00 cm2\n"
     ]
    }
   ],
   "source": [
    "# 2-3\n",
    "\n",
    "r= int(input('반지름을 입력하세요 : '))\n",
    "length=2*3.14*r\n",
    "area=r*r*3.14\n",
    "print('반지름 :%d cm'% r)\n",
    "print('원의 둘레 : %.2f cm'% a)\n",
    "print('원의 면적 : %.2f cm2'% b)"
   ]
  },
  {
   "cell_type": "code",
   "execution_count": 4,
   "metadata": {},
   "outputs": [
    {
     "name": "stdout",
     "output_type": "stream",
     "text": [
      "책 값을 입력하세요:15000\n",
      "할인율을 입력하세요:15\n",
      "배송료를 입력하세요:3000\n",
      "결제 금액 : 15750원\n"
     ]
    }
   ],
   "source": [
    "# 2-4\n",
    "book_price=int(input('책 값을 입력하세요:'))\n",
    "discount=float(input('할인율을 입력하세요:'))\n",
    "shipping=int(input('배송료를 입력하세요:'))\n",
    "\n",
    "total_price = book_price-(book_price*discount/100)+shipping\n",
    "\n",
    "print(\"결제 금액 : %.0f원\" % total_price)"
   ]
  },
  {
   "cell_type": "code",
   "execution_count": 7,
   "metadata": {
    "scrolled": true
   },
   "outputs": [
    {
     "name": "stdout",
     "output_type": "stream",
     "text": [
      "이름을 입력하세요:안지영\n",
      "현재년을 입력하세요:2020\n",
      "탄생년을 입력하세요:1997\n",
      "안지영님의 나이는 24세 입니다1\n"
     ]
    }
   ],
   "source": [
    "# 2-5\n",
    "name = input('이름을 입력하세요:')\n",
    "current = int(input('현재년을 입력하세요:'))\n",
    "birth = int(input('탄생년을 입력하세요:'))\n",
    "\n",
    "age=current-birth+1\n",
    "print('%s님의 나이는 %d세 입니다1'%(name, age))\n"
   ]
  },
  {
   "cell_type": "code",
   "execution_count": 11,
   "metadata": {},
   "outputs": [
    {
     "name": "stdout",
     "output_type": "stream",
     "text": [
      "연을 입력하세요:2020\n",
      "월을 입력하세요:1\n",
      "일을 입력하세요:5\n",
      "2020-01-05\n"
     ]
    }
   ],
   "source": [
    "# 2-6\n",
    "year = int(input('연을 입력하세요:'))\n",
    "month = int(input('월을 입력하세요:'))\n",
    "day = int(input('일을 입력하세요:'))\n",
    "\n",
    "print('%d-%02d-%02d'% (year, month, day))"
   ]
  },
  {
   "cell_type": "code",
   "execution_count": 22,
   "metadata": {},
   "outputs": [
    {
     "name": "stdout",
     "output_type": "stream",
     "text": [
      "False\n",
      "False\n",
      "False\n",
      "True\n",
      "False\n",
      "False\n",
      "True\n",
      "False\n",
      "True\n"
     ]
    }
   ],
   "source": [
    "# 3-1\n",
    "a=2\n",
    "b=5\n",
    "c=-3\n",
    "print(a!=2)\n",
    "print(not(b>=a))\n",
    "print(c/2>a*3)\n",
    "\n",
    "a = 3\n",
    "b = 7\n",
    "c = -4\n",
    "print(a != 2)\n",
    "print(not(b >= a))\n",
    "print(c/2 > a*3)\n",
    "\n",
    "a = -10\n",
    "b = 10\n",
    "c = -2\n",
    "print(a != 2)\n",
    "print(not(b >= a))\n",
    "print(c/2 > a*3)\n"
   ]
  },
  {
   "cell_type": "code",
   "execution_count": 23,
   "metadata": {},
   "outputs": [
    {
     "name": "stdout",
     "output_type": "stream",
     "text": [
      "False\n",
      "True\n",
      "True\n",
      "False\n",
      "False\n",
      "True\n"
     ]
    }
   ],
   "source": [
    "# 3-2\n",
    "a = -5\n",
    "b = 3 \n",
    "c = 2\n",
    "print(a>2 or c>b and c>2)\n",
    "print(not(a>5 or b>c and c>=3))\n",
    "\n",
    "a = 10\n",
    "b = 5\n",
    "c = 7\n",
    "print(a>2 or c>b and c>2)\n",
    "print(not(a>5 or b>c and c>=3))\n",
    "\n",
    "a = -3\n",
    "b = 10\n",
    "c = 2\n",
    "print(a>2 or c>b and c>2)\n",
    "print(not(a>5 or b>c and c>=3))"
   ]
  },
  {
   "cell_type": "code",
   "execution_count": 12,
   "metadata": {},
   "outputs": [
    {
     "name": "stdout",
     "output_type": "stream",
     "text": [
      "4\n"
     ]
    }
   ],
   "source": [
    "# 3-3\n",
    "a=2\n",
    "z=a*5\n",
    "w=(z-3)*(a-2)/7+10\n",
    "\n",
    "if a > z or w > a:\n",
    "    y=2*a\n",
    "else:\n",
    "    y=4*a\n",
    "    \n",
    "print(y)"
   ]
  },
  {
   "cell_type": "code",
   "execution_count": 14,
   "metadata": {},
   "outputs": [
    {
     "name": "stdout",
     "output_type": "stream",
     "text": [
      "단위를 입력하세요(1:섭씨, 2:화씨):2\n",
      "온도를 입력하세요:80\n",
      "물의 섭씨 온도 :  26.67, 상태 : 액체\n"
     ]
    }
   ],
   "source": [
    "# 3-4\n",
    "unit = int(input('단위를 입력하세요(1:섭씨, 2:화씨):'))\n",
    "temp = int(input('온도를 입력하세요:'))\n",
    "\n",
    "if unit ==2:\n",
    "    temp = (temp -32)*5/9\n",
    "    \n",
    "if temp < 0:\n",
    "    state = '고체'\n",
    "elif temp < 100:\n",
    "    state = '액체'\n",
    "else:\n",
    "    stat = '기체'\n",
    "    \n",
    "print('물의 섭씨 온도 :  %.2f, 상태 : %s'%(temp,state))"
   ]
  },
  {
   "cell_type": "code",
   "execution_count": 15,
   "metadata": {},
   "outputs": [
    {
     "name": "stdout",
     "output_type": "stream",
     "text": [
      "아이디를 입력하세요:rubato\n",
      "회원 레벨을 입력해 주세요 :3\n",
      "일부 콘텐츠 이용 가능\n"
     ]
    }
   ],
   "source": [
    "# 3-5\n",
    "userid = input('아이디를 입력하세요:')\n",
    "\n",
    "if userid == 'admin' : \n",
    "    print('모든콘텐츠 이용 가능')\n",
    "else:\n",
    "    level = int(input('회원 레벨을 입력해 주세요 :'))\n",
    "    \n",
    "    if level>=2 and level<=7:\n",
    "        print('일부 콘텐츠 이용 가능')\n",
    "    else:\n",
    "        print('콘텐츠 이용 불가')"
   ]
  },
  {
   "cell_type": "code",
   "execution_count": 17,
   "metadata": {},
   "outputs": [
    {
     "name": "stdout",
     "output_type": "stream",
     "text": [
      "나이를 입력하세요:6\n",
      "입장료는 1000원 입니다.\n"
     ]
    }
   ],
   "source": [
    "# 3-6\n",
    "\"\"\"\n",
    "ticket = 2000\n",
    "\n",
    "age = int(input('나이를 입력하세요:'))\n",
    "\n",
    "if age >= 65:\n",
    "    ticket = 0\n",
    "if age <= 10 :\n",
    "    ticket = 1000\n",
    "\"\"\"   \n",
    "age = int(input('나이를 입력하세요:'))\n",
    "\n",
    "if age >= 65:\n",
    "    ticket = 0\n",
    "elif age <= 10:\n",
    "    ticket = 1000\n",
    "else:\n",
    "    ticket = 2000\n",
    "    \n",
    "print('입장료는 %d원 입니다.'% ticket)"
   ]
  },
  {
   "cell_type": "code",
   "execution_count": 18,
   "metadata": {},
   "outputs": [
    {
     "name": "stdout",
     "output_type": "stream",
     "text": [
      "영어시험 점수를 입력하세요: 85\n",
      "수학시험 점수를 입력하세요: 75\n",
      "재시험 기회제공\n"
     ]
    }
   ],
   "source": [
    "# 3-7\n",
    "eng = int(input('영어시험 점수를 입력하세요: '))\n",
    "math = int(input('수학시험 점수를 입력하세요: '))\n",
    "if eng >= 80 and math >= 80:\n",
    "    print('합격')\n",
    "elif eng >= 80 or math >= 80:\n",
    "    print('재시험 기회제공')\n",
    "else:\n",
    "    print('불합격')"
   ]
  }
 ],
 "metadata": {
  "kernelspec": {
   "display_name": "Python 3",
   "language": "python",
   "name": "python3"
  },
  "language_info": {
   "codemirror_mode": {
    "name": "ipython",
    "version": 3
   },
   "file_extension": ".py",
   "mimetype": "text/x-python",
   "name": "python",
   "nbconvert_exporter": "python",
   "pygments_lexer": "ipython3",
   "version": "3.7.6-final"
  }
 },
 "nbformat": 4,
 "nbformat_minor": 4
}