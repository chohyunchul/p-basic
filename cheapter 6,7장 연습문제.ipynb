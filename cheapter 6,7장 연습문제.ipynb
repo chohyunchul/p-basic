{
 "cells": [
  {
   "cell_type": "markdown",
   "metadata": {},
   "source": [
    "# 6장 연습문제"
   ]
  },
  {
   "cell_type": "code",
   "execution_count": 20,
   "metadata": {},
   "outputs": [
    {
     "name": "stdout",
     "output_type": "stream",
     "text": [
      "1. 아이디 : kim99 , 마일리지 : 12000점\n",
      "2. 아이디 : lee66 , 마일리지 : 11000점\n",
      "3. 아이디 : han55 , 마일리지 : 3000점\n",
      "4. 아이디 : hong77 , 마일리지 : 5000점\n",
      "5. 아이디 : hwang33 , 마일리지 : 18000점\n"
     ]
    }
   ],
   "source": [
    "# 6-1\n",
    "a ={'kim99':12000,'lee66':11000,'han55':3000,'hong77':5000,'hwang33':18000}\n",
    "\n",
    "i=1\n",
    "for key in a:\n",
    "    print('%d. 아이디 : %s , 마일리지 : %d점'%(i,key,a[key]))\n",
    "    i +=1"
   ]
  },
  {
   "cell_type": "code",
   "execution_count": 2,
   "metadata": {},
   "outputs": [
    {
     "name": "stdout",
     "output_type": "stream",
     "text": [
      "han55님의 마일리지가 5000점으로 수정되었습니다\n"
     ]
    }
   ],
   "source": [
    "# 6-2\n",
    "a['han55']=5000\n",
    "print('han55님의 마일리지가 %d점으로 수정되었습니다'%a['han55'])"
   ]
  },
  {
   "cell_type": "code",
   "execution_count": 3,
   "metadata": {},
   "outputs": [
    {
     "name": "stdout",
     "output_type": "stream",
     "text": [
      "{'kim99': 12000, 'lee66': 11000, 'han55': 5000, 'hong77': 5000, 'hwang33': 18000, 'jang88': 7000}\n",
      "jang88님의 마일리지가 7000점으로 수정되었습니다\n"
     ]
    }
   ],
   "source": [
    "# 6-3\n",
    "a['jang88']=7000\n",
    "print(a)\n",
    "print('jang88님의 마일리지가 %d점으로 수정되었습니다'%a['jang88'])"
   ]
  },
  {
   "cell_type": "code",
   "execution_count": 4,
   "metadata": {},
   "outputs": [
    {
     "name": "stdout",
     "output_type": "stream",
     "text": [
      "hwang33님의 마일리지가 18000점이 가장 높은 점수입니다.\n"
     ]
    }
   ],
   "source": [
    "# 6-4\n",
    "def f1(x):\n",
    "    return a[x]\n",
    "\n",
    "key_max = max(a.keys(), key=f1)\n",
    "\n",
    "print('%s님의 마일리지가 %d점이 가장 높은 점수입니다.'%(key_max,a[key_max]))"
   ]
  },
  {
   "cell_type": "code",
   "execution_count": 3,
   "metadata": {},
   "outputs": [
    {
     "name": "stdout",
     "output_type": "stream",
     "text": [
      "--------------------------------------------------\n",
      "월     화     수     목     금     토     일     \n",
      "--------------------------------------------------\n",
      "25.5  28.3  33.2  32.1  17.3  35.3  33.3  \n",
      "--------------------------------------------------\n"
     ]
    }
   ],
   "source": [
    "# 6-5\n",
    "print('-'*50)\n",
    "b = {'월':25.5,'화':28.3,'수':33.2,'목':32.1,'금':17.3,'토':35.3,'일':33.3}\n",
    "for key in b:\n",
    "    print('%s'%(key), end='     ')\n",
    "print()\n",
    "print('-'*50)\n",
    "for key in b:\n",
    "    print('%.1f'% b[key], end='  ')\n",
    "print()\n",
    "print('-'*50)    "
   ]
  },
  {
   "cell_type": "code",
   "execution_count": 4,
   "metadata": {},
   "outputs": [
    {
     "name": "stdout",
     "output_type": "stream",
     "text": [
      "가장 낮은 최고 기온 : 17.3º\n"
     ]
    }
   ],
   "source": [
    "# 6-6\n",
    "def f1(x):\n",
    "    return a[x]\n",
    "\n",
    "key_min = min(b.keys(), key=(lambda k: b[k]))\n",
    "\n",
    "print('가장 낮은 최고 기온 : %sº'%(b[key_min]))"
   ]
  },
  {
   "cell_type": "code",
   "execution_count": null,
   "metadata": {},
   "outputs": [],
   "source": []
  },
  {
   "cell_type": "code",
   "execution_count": 18,
   "metadata": {},
   "outputs": [
    {
     "name": "stdout",
     "output_type": "stream",
     "text": [
      "기온이 30º 이상인 요일 : 수 목 토 일 "
     ]
    }
   ],
   "source": [
    "# 6-7\n",
    "\n",
    "print('기온이 30º 이상인 요일 : ', end='')\n",
    "for key in b:\n",
    "    if b[key] >= 30 :\n",
    "        print(key, end=' ')      "
   ]
  },
  {
   "cell_type": "code",
   "execution_count": null,
   "metadata": {},
   "outputs": [],
   "source": [
    "print('기온이 30º 이상인 요일 : %d'%(b[key]))"
   ]
  },
  {
   "cell_type": "code",
   "execution_count": 31,
   "metadata": {},
   "outputs": [
    {
     "name": "stdout",
     "output_type": "stream",
     "text": [
      "일주일간 최고 기온의 평균 : 29.3\n"
     ]
    }
   ],
   "source": [
    "# 6-8\n",
    "sum=0\n",
    "for key in b:\n",
    "    sum +=b[key] \n",
    "\n",
    "avg=sum/len(b)\n",
    "\n",
    "print('일주일간 최고 기온의 평균 : %.1f'%(avg))"
   ]
  },
  {
   "cell_type": "code",
   "execution_count": null,
   "metadata": {},
   "outputs": [],
   "source": []
  },
  {
   "cell_type": "markdown",
   "metadata": {},
   "source": [
    "# 7장 연습문제"
   ]
  },
  {
   "cell_type": "code",
   "execution_count": 1,
   "metadata": {},
   "outputs": [
    {
     "name": "stdout",
     "output_type": "stream",
     "text": [
      "20,10\n"
     ]
    }
   ],
   "source": [
    "# 7-1\n",
    "def f1(a):\n",
    "    a += 10\n",
    "    print(a, end=',')\n",
    "    \n",
    "a = 10\n",
    "f1(a)\n",
    "print(a)"
   ]
  },
  {
   "cell_type": "code",
   "execution_count": 2,
   "metadata": {},
   "outputs": [
    {
     "name": "stdout",
     "output_type": "stream",
     "text": [
      "300,100,300\n"
     ]
    }
   ],
   "source": [
    "# 7-2\n",
    "def f2(a):\n",
    "    global y\n",
    "    y +=a\n",
    "    x = 500\n",
    "    print(y, end=',')\n",
    "    \n",
    "x = 100\n",
    "y = 200\n",
    "f2(x)\n",
    "print(x, end=',')\n",
    "print(y)"
   ]
  },
  {
   "cell_type": "code",
   "execution_count": 3,
   "metadata": {},
   "outputs": [
    {
     "name": "stdout",
     "output_type": "stream",
     "text": [
      "n 값을 입력해 주세요 : 20\n",
      "2 ~ 20까지의 정수 중 소수 : 2 3 5 7 11 13 17 19 "
     ]
    }
   ],
   "source": [
    "# 7-3\n",
    "def isPrimeNumber(num) :\n",
    "      prime_yes = True \n",
    "      for i in range(2, a) : \n",
    "            if a % i == 0 : \n",
    "                  prime_yes = False \n",
    "                  break\n",
    "      return prime_yes\n",
    "\n",
    "n = int(input('n 값을 입력해 주세요 : '))\n",
    "\n",
    "print('2 ~ %d까지의 정수 중 소수 :' % n, end = ' ')\n",
    "for a in range(2, n+1) :\n",
    "      is_prime = isPrimeNumber(a)\n",
    "      if is_prime :\n",
    "            print(a, end=' ')"
   ]
  },
  {
   "cell_type": "code",
   "execution_count": 4,
   "metadata": {},
   "outputs": [
    {
     "name": "stdout",
     "output_type": "stream",
     "text": [
      "문자열을 입력하세요I am hungry\n",
      "yrgnuh ma I\n"
     ]
    }
   ],
   "source": [
    "# 7-4\n",
    "s = input(\"문자열을 입력하세요\")\n",
    "print(''.join(reversed(s)))"
   ]
  },
  {
   "cell_type": "code",
   "execution_count": 5,
   "metadata": {},
   "outputs": [
    {
     "name": "stdout",
     "output_type": "stream",
     "text": [
      "[1, 4, 9, 16, 25]\n"
     ]
    }
   ],
   "source": [
    "# 7-5\n",
    "def numSquare(num):\n",
    "    list_new =[]\n",
    "    for i in range(1, num+1):\n",
    "        list_new.append(i**2)\n",
    "        \n",
    "    return list_new\n",
    "\n",
    "n = 5\n",
    "result = numSquare(n)\n",
    "print(result)"
   ]
  },
  {
   "cell_type": "code",
   "execution_count": 6,
   "metadata": {},
   "outputs": [
    {
     "name": "stdout",
     "output_type": "stream",
     "text": [
      "첫번째 숫자를 입력하세요: 8\n",
      "두번째 숫자를 입력하세요: 20\n",
      "두 수의 최소 공배수는 40 입니다.\n"
     ]
    }
   ],
   "source": [
    "# 7-6\n",
    "number1 = int(input(\"첫번째 숫자를 입력하세요: \"))\n",
    "number2 = int(input(\"두번째 숫자를 입력하세요: \"))\n",
    "t_num = 0\n",
    "if number1 > number2 :\n",
    "    t_num = number1\n",
    "else :\n",
    "    t_num = number2\n",
    "\n",
    "while t_num:\n",
    "    if t_num % number1 == 0 and t_num % number2 == 0 :\n",
    "        print(\"두 수의 최소 공배수는 %d 입니다.\" % t_num)\n",
    "        break\n",
    "    t_num += 1"
   ]
  },
  {
   "cell_type": "code",
   "execution_count": 7,
   "metadata": {},
   "outputs": [
    {
     "name": "stdout",
     "output_type": "stream",
     "text": [
      "※ 비밀번호는 10자리 이상, 영문 대문자를 포함하여야 합니다.\n",
      "비밀번호 : 3677848\n",
      "비밀번호 확인: 3677848\n",
      "비밀번호가 잘못되었습니다! 다시 입력해 주세요\n",
      "비밀번호: A123456789\n",
      "비밀번호 확인 : asdfsadf\n",
      "비밀번호와 비밀번호 확인이 서로 다릅니다! 다시 입력해 주세요!\n",
      "비밀번호: A123456789\n",
      "비밀번호 확인 : A123456789\n",
      "유효한 비밀번호입니다~~~\n"
     ]
    }
   ],
   "source": [
    "# 7-7\n",
    "def isValid(p) : \n",
    "   if len(p) < 10 : \n",
    "      return False \n",
    "\n",
    "   is_num = False \n",
    "   is_upper = False \n",
    "\n",
    "   for ch in p : \n",
    "      if ch >= 'A' and ch <= 'Z' : \n",
    "         is_upper = True \n",
    "      if ch >= '0' and ch <= '9' : \n",
    "         is_num = True \n",
    "\n",
    "   return is_upper and is_num \n",
    "\n",
    "\n",
    "print('※ 비밀번호는 10자리 이상, 영문 대문자를 포함하여야 합니다.') \n",
    "\n",
    "password1 = input('비밀번호 : ') \n",
    "password2 = input('비밀번호 확인: ') \n",
    "\n",
    "while True :\n",
    "    if isValid(password1) and password1 == password2 :\n",
    "        break\n",
    "    else :\n",
    "        if not isValid(password1) :  \n",
    "            print('비밀번호가 잘못되었습니다! 다시 입력해 주세요')\n",
    "        else :  \n",
    "            print('비밀번호와 비밀번호 확인이 서로 다릅니다! 다시 입력해 주세요!')\n",
    "\n",
    "    password1 = input('비밀번호: ') \n",
    "    password2 = input('비밀번호 확인 : ') \n",
    "\n",
    "print('유효한 비밀번호입니다~~~')"
   ]
  },
  {
   "cell_type": "code",
   "execution_count": null,
   "metadata": {},
   "outputs": [],
   "source": [
    "# 7-8"
   ]
  }
 ],
 "metadata": {
  "kernelspec": {
   "display_name": "Python 3",
   "language": "python",
   "name": "python3"
  },
  "language_info": {
   "codemirror_mode": {
    "name": "ipython",
    "version": 3
   },
   "file_extension": ".py",
   "mimetype": "text/x-python",
   "name": "python",
   "nbconvert_exporter": "python",
   "pygments_lexer": "ipython3",
   "version": "3.7.6"
  }
 },
 "nbformat": 4,
 "nbformat_minor": 4
}
